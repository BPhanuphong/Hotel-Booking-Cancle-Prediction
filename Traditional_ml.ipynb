{
  "nbformat": 4,
  "nbformat_minor": 0,
  "metadata": {
    "colab": {
      "provenance": [],
      "collapsed_sections": []
    },
    "kernelspec": {
      "name": "python3",
      "display_name": "Python 3"
    },
    "language_info": {
      "name": "python"
    },
    "accelerator": "GPU",
    "gpuClass": "standard"
  },
  "cells": [
    {
      "cell_type": "markdown",
      "source": [
        "# 1. Prepare the environment"
      ],
      "metadata": {
        "id": "Am8MiduBQF7w"
      }
    },
    {
      "cell_type": "code",
      "execution_count": null,
      "metadata": {
        "colab": {
          "base_uri": "https://localhost:8080/"
        },
        "id": "dP0wi2yRP46L",
        "outputId": "adb93de7-15f4-49b0-89ee-c049dd28d7ab"
      },
      "outputs": [
        {
          "output_type": "stream",
          "name": "stdout",
          "text": [
            "GPU 0: Tesla T4 (UUID: GPU-b6863e32-c74e-1bd2-229c-111259adb075)\n"
          ]
        }
      ],
      "source": [
        "# List all NVIDIA GPUs as avaialble in this computer (or Colab's session)\n",
        "\n",
        "!nvidia-smi -L"
      ]
    },
    {
      "cell_type": "code",
      "source": [
        "import plotly.graph_objs as go\n",
        "from google.colab import drive\n",
        "import pandas as pd\n",
        "import seaborn as sns\n",
        "import plotly.offline as py\n",
        "import plotly.figure_factory as ff\n",
        "import numpy as np\n",
        "import seaborn as sns\n",
        "import matplotlib.pyplot as plt\n",
        "from sklearn.preprocessing import LabelEncoder, StandardScaler \n",
        "from sklearn.model_selection import train_test_split, GridSearchCV\n",
        "from sklearn.ensemble import RandomForestClassifier\n",
        "from xgboost import XGBClassifier\n",
        "from sklearn.linear_model import LogisticRegression\n",
        "from sklearn.metrics import confusion_matrix,classification_report\n",
        "from imblearn.over_sampling import SMOTE\n",
        "\n",
        "import sys\n",
        "print( f\"Python {sys.version}\\n\" )\n",
        "\n",
        "import numpy as np\n",
        "print( f\"NumPy {np.__version__}\\n\" )\n",
        "\n",
        "import matplotlib.pyplot as plt\n",
        "%matplotlib inline\n",
        "\n",
        "import tensorflow as tf\n",
        "print( f\"TensorFlow {tf.__version__}\" )\n",
        "print( f\"tf.keras.backend.image_data_format() = {tf.keras.backend.image_data_format()}\" )\n",
        "\n",
        "# Count the number of GPUs as detected by tensorflow\n",
        "gpus = tf.config.list_physical_devices('GPU')\n",
        "print( f\"TensorFlow detected { len(gpus) } GPU(s):\" )\n",
        "for i, gpu in enumerate(gpus):\n",
        "  print( f\".... GPU No. {i}: Name = {gpu.name} , Type = {gpu.device_type}\" )"
      ],
      "metadata": {
        "colab": {
          "base_uri": "https://localhost:8080/"
        },
        "id": "lml-duVyQK78",
        "outputId": "2c8c7c5c-1330-43db-a83d-f5cee85bacc5"
      },
      "execution_count": null,
      "outputs": [
        {
          "output_type": "stream",
          "name": "stdout",
          "text": [
            "Python 3.7.13 (default, Apr 24 2022, 01:04:09) \n",
            "[GCC 7.5.0]\n",
            "\n",
            "NumPy 1.21.6\n",
            "\n",
            "TensorFlow 2.8.2\n",
            "tf.keras.backend.image_data_format() = channels_last\n",
            "TensorFlow detected 1 GPU(s):\n",
            ".... GPU No. 0: Name = /physical_device:GPU:0 , Type = GPU\n"
          ]
        }
      ]
    },
    {
      "cell_type": "code",
      "source": [
        "# Set fixed seeding values for reproducability during experiments\n",
        "# Skip this cell if random initialization (with varied results) is needed\n",
        "np.random.seed(1234)\n",
        "tf.random.set_seed(5678)"
      ],
      "metadata": {
        "id": "F8LiRMTQUVKY"
      },
      "execution_count": null,
      "outputs": []
    },
    {
      "cell_type": "markdown",
      "source": [
        "# 2. Prepare the data in NumPy \n",
        "\n",
        "Suppose that this example deals with the single-label multi-class classification problem where a single input is a 1D vector of shape (100,) and there are 10 predefined classes of output.\n",
        "\n",
        "1. Load train and test data\n",
        "2. Data preprocessing\n",
        "3. Format the data (e.g, shape, dtype) to suit with the model's requirement (e.g., MLP)"
      ],
      "metadata": {
        "id": "QsNLz02cTzDS"
      }
    },
    {
      "cell_type": "code",
      "source": [
        "# # Load Data from Google Drive\n",
        "\n",
        "# drive.mount('/content/drive')\n",
        "# data = pd.read_csv('/content/drive/MyDrive/DADS 7202 Deep Learning/02_Deep Learning_HW1_MLP/Data Set/hotel_bookings.csv')\n",
        "# data.shape\n"
      ],
      "metadata": {
        "id": "WfPEazUF0w-U"
      },
      "execution_count": null,
      "outputs": []
    },
    {
      "cell_type": "code",
      "source": [
        "# Load Data from Google Drive\n",
        "from google.colab import drive\n",
        "drive.mount('/content/drive')\n",
        "data= pd.read_csv('/content/drive/MyDrive/DAD7202/hotel_bookings.csv')"
      ],
      "metadata": {
        "colab": {
          "base_uri": "https://localhost:8080/"
        },
        "id": "2JSTP0dnqHLK",
        "outputId": "4dd0be68-47d4-4a4a-fcea-f60bb23721b2"
      },
      "execution_count": null,
      "outputs": [
        {
          "output_type": "stream",
          "name": "stdout",
          "text": [
            "Mounted at /content/drive\n"
          ]
        }
      ]
    },
    {
      "cell_type": "code",
      "source": [
        "data['is_canceled'].value_counts()"
      ],
      "metadata": {
        "colab": {
          "base_uri": "https://localhost:8080/"
        },
        "id": "Nu0Tl_ec2Yna",
        "outputId": "669ce7ce-ea40-4cd1-fec0-60db63b8a273"
      },
      "execution_count": null,
      "outputs": [
        {
          "output_type": "execute_result",
          "data": {
            "text/plain": [
              "0    75166\n",
              "1    44224\n",
              "Name: is_canceled, dtype: int64"
            ]
          },
          "metadata": {},
          "execution_count": 6
        }
      ]
    },
    {
      "cell_type": "code",
      "source": [
        "data.drop(['company'],inplace=True,axis=1)\n",
        "data['agent'].fillna(data['agent'].mode()[0],inplace=True)\n",
        "data['country'].fillna(data['country'].mode()[0],inplace=True)\n",
        "data['children'].fillna(data['children'].mean(),inplace=True)"
      ],
      "metadata": {
        "id": "2VeMuA-g1TP3"
      },
      "execution_count": null,
      "outputs": []
    },
    {
      "cell_type": "code",
      "source": [
        "categorical_columns=[]\n",
        "continuous_columns=[]\n",
        "for col in data.columns:\n",
        "    if data[col].dtype!='object':\n",
        "        continuous_columns.append(col)\n",
        "    else:\n",
        "        categorical_columns.append(col)\n",
        "    "
      ],
      "metadata": {
        "id": "KoUftoiO1hZu"
      },
      "execution_count": null,
      "outputs": []
    },
    {
      "cell_type": "code",
      "source": [
        "hotel_bookings_df=data"
      ],
      "metadata": {
        "id": "qi-t3ttG3bus"
      },
      "execution_count": null,
      "outputs": []
    },
    {
      "cell_type": "code",
      "source": [
        "hotel_bookings_df['arrival_date_month'] = hotel_bookings_df['arrival_date_month'].map({'January':1, 'February': 2, 'March':3, 'April':4, 'May':5, 'June':6, 'July':7,\n",
        "                                                            'August':8, 'September':9, 'October':10, 'November':11, 'December':12})\n",
        "hotel_bookings_df['hotel'] = hotel_bookings_df['hotel'].map({'Resort Hotel':0, 'City Hotel':1})\n",
        "hotel_bookings_df[\"total_members\"] = hotel_bookings_df[\"adults\"] + hotel_bookings_df[\"children\"] + hotel_bookings_df[\"babies\"]\n",
        "hotel_bookings_df[\"total_stay\"] = hotel_bookings_df[\"stays_in_weekend_nights\"]+ hotel_bookings_df[\"stays_in_week_nights\"]\n",
        "hotel_bookings_df.drop(columns = ['adults', 'babies', 'children', 'stays_in_weekend_nights', 'stays_in_week_nights'],inplace=True,axis=1)"
      ],
      "metadata": {
        "id": "Cbk7TfNR1hcH"
      },
      "execution_count": null,
      "outputs": []
    },
    {
      "cell_type": "code",
      "source": [
        "le = LabelEncoder()\n",
        "hotel_bookings_df['meal'] = le.fit_transform(hotel_bookings_df['meal'])\n",
        "hotel_bookings_df['country'] = le.fit_transform(hotel_bookings_df['country'])\n",
        "hotel_bookings_df['distribution_channel'] = le.fit_transform(hotel_bookings_df['distribution_channel'])\n",
        "hotel_bookings_df['reserved_room_type'] = le.fit_transform(hotel_bookings_df['reserved_room_type'])\n",
        "hotel_bookings_df['assigned_room_type'] = le.fit_transform(hotel_bookings_df['assigned_room_type'])\n",
        "hotel_bookings_df['deposit_type'] = le.fit_transform(hotel_bookings_df['deposit_type'])\n",
        "hotel_bookings_df['customer_type'] = le.fit_transform(hotel_bookings_df['customer_type'])\n",
        "hotel_bookings_df['reservation_status'] = le.fit_transform(hotel_bookings_df['reservation_status'])\n",
        "hotel_bookings_df['market_segment'] = le.fit_transform(hotel_bookings_df['market_segment'])\n",
        "hotel_bookings_df['reservation_status_date'] = le.fit_transform(hotel_bookings_df['reservation_status_date'])\n",
        "hotel_bookings_df['is_canceled'] = le.fit_transform(hotel_bookings_df['is_canceled'])"
      ],
      "metadata": {
        "id": "rxMy-uXG1hem"
      },
      "execution_count": null,
      "outputs": []
    },
    {
      "cell_type": "code",
      "source": [
        "hotel_bookings_df=hotel_bookings_df[['hotel', 'lead_time', 'arrival_date_year',\n",
        "       'arrival_date_month', 'arrival_date_week_number',\n",
        "       'arrival_date_day_of_month', 'meal', 'country', 'market_segment',\n",
        "       'distribution_channel', 'is_repeated_guest', 'previous_cancellations',\n",
        "       'previous_bookings_not_canceled', 'reserved_room_type',\n",
        "       'assigned_room_type', 'booking_changes', 'deposit_type', 'agent',\n",
        "       'days_in_waiting_list', 'customer_type', 'adr',\n",
        "       'required_car_parking_spaces', 'total_of_special_requests',\n",
        "       'reservation_status', 'reservation_status_date', 'total_members',\n",
        "       'total_stay', 'is_canceled']]"
      ],
      "metadata": {
        "id": "hxZvRR-N1hg7"
      },
      "execution_count": null,
      "outputs": []
    },
    {
      "cell_type": "code",
      "source": [
        "hotel_bookings_df.drop(['reservation_status'],inplace=True,axis=1)"
      ],
      "metadata": {
        "id": "Z2dCkQyL1hjn"
      },
      "execution_count": null,
      "outputs": []
    },
    {
      "cell_type": "code",
      "source": [
        "hotel_bookings_df.drop(['arrival_date_year','arrival_date_day_of_month','assigned_room_type'],inplace=True,axis=1)"
      ],
      "metadata": {
        "id": "0dYVVTFI1hlp"
      },
      "execution_count": null,
      "outputs": []
    },
    {
      "cell_type": "code",
      "source": [
        "X = hotel_bookings_df.drop([\"is_canceled\"], axis=1)\n",
        "y = hotel_bookings_df[\"is_canceled\"]\n",
        "\n",
        "X_train, X_test, y_train, y_test = train_test_split(X, y, test_size = 0.30, random_state = 64)\n",
        "\n",
        "sm = SMOTE(random_state=64)\n",
        "X_res, y_res = sm.fit_resample(X_train, y_train)\n",
        "\n",
        "X_res_train,X_val , y_res_train, y_val = train_test_split(X_res, y_res, test_size = 0.30, random_state = 64)"
      ],
      "metadata": {
        "id": "Q23gs_Dk1ho0"
      },
      "execution_count": null,
      "outputs": []
    },
    {
      "cell_type": "code",
      "source": [
        "from collections import Counter\n",
        "\n",
        "print('Resampled dataset shape %s' % Counter(y))\n",
        "print('Resampled dataset shape %s' % Counter(y_res))"
      ],
      "metadata": {
        "colab": {
          "base_uri": "https://localhost:8080/"
        },
        "id": "K5vzCAog1hsP",
        "outputId": "77416baf-add2-48b0-b08d-453860387723"
      },
      "execution_count": null,
      "outputs": [
        {
          "output_type": "stream",
          "name": "stdout",
          "text": [
            "Resampled dataset shape Counter({0: 75166, 1: 44224})\n",
            "Resampled dataset shape Counter({0: 52524, 1: 52524})\n"
          ]
        }
      ]
    },
    {
      "cell_type": "markdown",
      "source": [
        "# Decision Tree"
      ],
      "metadata": {
        "id": "7srD96pyqqUZ"
      }
    },
    {
      "cell_type": "code",
      "source": [
        "from sklearn.tree import DecisionTreeClassifier\n",
        "model2 = DecisionTreeClassifier(random_state=42)\n",
        "model2.fit(X_res_train, y_res_train)\n",
        "DT_pred = model2.predict(X_test)"
      ],
      "metadata": {
        "id": "149Mf34vrGXm"
      },
      "execution_count": null,
      "outputs": []
    },
    {
      "cell_type": "code",
      "source": [
        "%%time\n",
        "from sklearn.metrics import confusion_matrix,classification_report\n",
        "import numpy as np\n",
        "from sklearn import metrics\n",
        "\n",
        "print(classification_report(y_test.values.tolist(),DT_pred))\n",
        "\n",
        "\n",
        "fpr, tpr, thresholds = metrics.roc_curve(y_test.values.tolist(), DT_pred)\n",
        "print('AUC score',metrics.auc(fpr, tpr))"
      ],
      "metadata": {
        "colab": {
          "base_uri": "https://localhost:8080/"
        },
        "id": "Ur6h-PmXrxTi",
        "outputId": "b83a9e8c-da49-4058-ccf8-45ad4d59d22c"
      },
      "execution_count": null,
      "outputs": [
        {
          "output_type": "stream",
          "name": "stdout",
          "text": [
            "              precision    recall  f1-score   support\n",
            "\n",
            "           0       0.93      0.92      0.93     15837\n",
            "           1       0.92      0.93      0.93     15678\n",
            "\n",
            "    accuracy                           0.93     31515\n",
            "   macro avg       0.93      0.93      0.93     31515\n",
            "weighted avg       0.93      0.93      0.93     31515\n",
            "\n",
            "AUC score 0.9270304700239701\n",
            "CPU times: user 81 ms, sys: 9 µs, total: 81.1 ms\n",
            "Wall time: 79.9 ms\n"
          ]
        }
      ]
    },
    {
      "cell_type": "markdown",
      "source": [
        "# Logistic Regression"
      ],
      "metadata": {
        "id": "m-1vS87PrUsP"
      }
    },
    {
      "cell_type": "code",
      "source": [
        "%%time\n",
        "from sklearn.linear_model import LogisticRegression\n",
        "solvers = ['newton-cg', 'lbfgs', 'liblinear']\n",
        "penalty = ['l2']\n",
        "c_values = [100, 10, 1.0, 0.1, 0.01]\n",
        "# define grid search\n",
        "grid = dict(solver=solvers,penalty=penalty,C=c_values)\n",
        "grid_search = GridSearchCV(estimator=LogisticRegression(), param_grid=grid, n_jobs=-1, cv=3, scoring='accuracy',error_score=0,verbose=5)\n",
        "grid_result = grid_search.fit(X_res_train, y_res_train)"
      ],
      "metadata": {
        "colab": {
          "base_uri": "https://localhost:8080/"
        },
        "id": "8W1osbwQrZGV",
        "outputId": "65c83e97-26b3-40cb-8ba3-4523b698e405"
      },
      "execution_count": null,
      "outputs": [
        {
          "output_type": "stream",
          "name": "stdout",
          "text": [
            "Fitting 3 folds for each of 15 candidates, totalling 45 fits\n",
            "CPU times: user 13 s, sys: 5.24 s, total: 18.2 s\n",
            "Wall time: 1min 29s\n"
          ]
        }
      ]
    },
    {
      "cell_type": "code",
      "source": [
        "grid_result.best_params_"
      ],
      "metadata": {
        "colab": {
          "base_uri": "https://localhost:8080/"
        },
        "id": "-uXLYOtn0Vw8",
        "outputId": "696daf13-ae21-4d71-b246-11afa85343c2"
      },
      "execution_count": null,
      "outputs": [
        {
          "output_type": "execute_result",
          "data": {
            "text/plain": [
              "{'C': 1.0, 'penalty': 'l2', 'solver': 'newton-cg'}"
            ]
          },
          "metadata": {},
          "execution_count": 62
        }
      ]
    },
    {
      "cell_type": "code",
      "source": [
        "model = LogisticRegression(C=1,penalty='l2',solver='newton-cg')\n",
        "model.fit(X_res_train, y_res_train)\n",
        "LR_pred = model.predict(X_test)"
      ],
      "metadata": {
        "id": "_vOZ-UvG0WI2"
      },
      "execution_count": null,
      "outputs": []
    },
    {
      "cell_type": "code",
      "source": [
        "%%time\n",
        "from sklearn.metrics import confusion_matrix,classification_report\n",
        "import numpy as np\n",
        "from sklearn import metrics\n",
        "\n",
        "print(classification_report(y_test.values.tolist(),LR_pred))\n",
        "\n",
        "\n",
        "fpr, tpr, thresholds = metrics.roc_curve(y_test.values.tolist(), LR_pred)\n",
        "print('AUC score',metrics.auc(fpr, tpr))"
      ],
      "metadata": {
        "colab": {
          "base_uri": "https://localhost:8080/"
        },
        "id": "_fVaMp3z0WRv",
        "outputId": "105ffcfb-1eee-49eb-e483-7c11bc7fbce5"
      },
      "execution_count": null,
      "outputs": [
        {
          "output_type": "stream",
          "name": "stdout",
          "text": [
            "              precision    recall  f1-score   support\n",
            "\n",
            "           0       0.76      0.81      0.78     15837\n",
            "           1       0.79      0.74      0.77     15678\n",
            "\n",
            "    accuracy                           0.77     31515\n",
            "   macro avg       0.78      0.77      0.77     31515\n",
            "weighted avg       0.78      0.77      0.77     31515\n",
            "\n",
            "AUC score 0.7745401445616039\n",
            "CPU times: user 117 ms, sys: 94.3 ms, total: 211 ms\n",
            "Wall time: 109 ms\n"
          ]
        }
      ]
    },
    {
      "cell_type": "markdown",
      "source": [
        "# Random Forest Model"
      ],
      "metadata": {
        "id": "I3Yh5L0FqQG0"
      }
    },
    {
      "cell_type": "code",
      "source": [
        "params = {\n",
        "    'max_depth': [10,  50, 100],\n",
        " 'min_samples_leaf': [1, 2, 4],\n",
        " 'min_samples_split': [2, 5, 10],\n",
        " 'n_estimators': [50,200, 1000]}"
      ],
      "metadata": {
        "id": "y7F7shGdtOQm"
      },
      "execution_count": null,
      "outputs": []
    },
    {
      "cell_type": "code",
      "source": [
        "%%time\n",
        "from sklearn.model_selection import GridSearchCV\n",
        "from sklearn.ensemble import RandomForestClassifier\n",
        "rf_model = RandomForestClassifier()\n",
        "clf = GridSearchCV(estimator= rf_model , param_grid=params, scoring='accuracy', return_train_score=True, verbose=1,cv=3)\n",
        "clf.fit(X_res_train, y_res_train)"
      ],
      "metadata": {
        "colab": {
          "base_uri": "https://localhost:8080/"
        },
        "id": "fkw6g9jctHP_",
        "outputId": "7e13da75-b7c2-4849-924f-5fd8d835ca30"
      },
      "execution_count": null,
      "outputs": [
        {
          "output_type": "stream",
          "name": "stdout",
          "text": [
            "Fitting 3 folds for each of 81 candidates, totalling 243 fits\n",
            "CPU times: user 1h 28min 50s, sys: 1min 51s, total: 1h 30min 41s\n",
            "Wall time: 1h 30min 25s\n"
          ]
        },
        {
          "output_type": "execute_result",
          "data": {
            "text/plain": [
              "GridSearchCV(cv=3, estimator=RandomForestClassifier(),\n",
              "             param_grid={'max_depth': [10, 50, 100],\n",
              "                         'min_samples_leaf': [1, 2, 4],\n",
              "                         'min_samples_split': [2, 5, 10],\n",
              "                         'n_estimators': [50, 200, 1000]},\n",
              "             return_train_score=True, scoring='accuracy', verbose=1)"
            ]
          },
          "metadata": {},
          "execution_count": 18
        }
      ]
    },
    {
      "cell_type": "code",
      "source": [
        "clf.best_params_"
      ],
      "metadata": {
        "id": "iGmdCk6d9JRO",
        "outputId": "8dc99163-7865-47e0-b125-4e9ec33faae7",
        "colab": {
          "base_uri": "https://localhost:8080/"
        }
      },
      "execution_count": null,
      "outputs": [
        {
          "output_type": "execute_result",
          "data": {
            "text/plain": [
              "{'max_depth': 50,\n",
              " 'min_samples_leaf': 1,\n",
              " 'min_samples_split': 2,\n",
              " 'n_estimators': 1000}"
            ]
          },
          "metadata": {},
          "execution_count": 19
        }
      ]
    },
    {
      "cell_type": "code",
      "source": [
        "from sklearn.ensemble import RandomForestClassifier\n",
        "rf_model = RandomForestClassifier(max_depth=50, min_samples_leaf= 1, min_samples_split= 2, n_estimators= 1000)\n",
        "rf_model.fit(X_res_train, y_res_train)\n",
        "re_pred = rf_model.predict(X_test)"
      ],
      "metadata": {
        "id": "wfB60gWFnSCB"
      },
      "execution_count": null,
      "outputs": []
    },
    {
      "cell_type": "code",
      "source": [
        "from sklearn.metrics import confusion_matrix,classification_report\n",
        "import numpy as np\n",
        "from sklearn import metrics\n",
        "\n",
        "print(classification_report(y_test.values.tolist(),re_pred))\n",
        "\n",
        "\n",
        "fpr, tpr, thresholds = metrics.roc_curve(y_test.values.tolist(), re_pred)\n",
        "print('AUC score',metrics.auc(fpr, tpr))"
      ],
      "metadata": {
        "colab": {
          "base_uri": "https://localhost:8080/"
        },
        "id": "69bwsRppnTIb",
        "outputId": "9b3b7e75-566a-46bd-f6c5-9903a6ac94e0"
      },
      "execution_count": null,
      "outputs": [
        {
          "output_type": "stream",
          "name": "stdout",
          "text": [
            "              precision    recall  f1-score   support\n",
            "\n",
            "           0       0.94      0.96      0.95     15837\n",
            "           1       0.95      0.93      0.94     15678\n",
            "\n",
            "    accuracy                           0.94     31515\n",
            "   macro avg       0.94      0.94      0.94     31515\n",
            "weighted avg       0.94      0.94      0.94     31515\n",
            "\n",
            "AUC score 0.9446054319984537\n"
          ]
        }
      ]
    },
    {
      "cell_type": "code",
      "source": [
        "import sklearn.metrics as metrics\n",
        "\n",
        "\n",
        "roc_auc = metrics.auc(fpr, tpr)\n",
        "\n",
        "# method I: plt\n",
        "import matplotlib.pyplot as plt\n",
        "plt.title('Receiver Operating Characteristic')\n",
        "plt.plot(fpr, tpr, 'b', label = 'AUC = %0.2f' % roc_auc)\n",
        "plt.legend(loc = 'lower right')\n",
        "plt.plot([0, 1], [0, 1],'r--')\n",
        "plt.xlim([-0.05, 1])\n",
        "plt.ylim([-0.05, 1])\n",
        "plt.ylabel('True Positive Rate')\n",
        "plt.xlabel('False Positive Rate')\n",
        "plt.show()\n",
        "\n",
        "# # method II: ggplot\n",
        "# from ggplot import *\n",
        "# df = pd.DataFrame(dict(fpr = fpr, tpr = tpr))\n",
        "# ggplot(df, aes(x = 'fpr', y = 'tpr')) + geom_line() + geom_abline(linetype = 'dashed')"
      ],
      "metadata": {
        "colab": {
          "base_uri": "https://localhost:8080/",
          "height": 295
        },
        "id": "mOzMUqR8nVt5",
        "outputId": "330a78ce-05ea-412a-a919-8ee7229edd6f"
      },
      "execution_count": null,
      "outputs": [
        {
          "output_type": "display_data",
          "data": {
            "text/plain": [
              "<Figure size 432x288 with 1 Axes>"
            ],
            "image/png": "[encoded data removed]"
          },
          "metadata": {
            "needs_background": "light"
          }
        }
      ]
    },
    {
      "cell_type": "markdown",
      "source": [
        "# XGBoost model"
      ],
      "metadata": {
        "id": "5_tSwWQOsZxd"
      }
    },
    {
      "cell_type": "code",
      "source": [
        "param_grid = {'gamma': [0,10,51,200],\n",
        "              'learning_rate': [0.01, 0.25, 0.7],\n",
        "              'max_depth': [5,10,14],\n",
        "              'n_estimators': [50,200, 1000]\n",
        "              }"
      ],
      "metadata": {
        "id": "mHmvV-ety9B6"
      },
      "execution_count": null,
      "outputs": []
    },
    {
      "cell_type": "code",
      "source": [
        "%%time\n",
        "from xgboost import XGBClassifier\n",
        "xgb_model = XGBClassifier()\n",
        "\n",
        "clf_xgb_model = GridSearchCV(estimator= xgb_model , param_grid=param_grid, scoring='accuracy', return_train_score=True, verbose=1,cv=3)\n",
        "clf_xgb_model.fit(X_res_train, y_res_train,X_val,y_val)"
      ],
      "metadata": {
        "colab": {
          "base_uri": "https://localhost:8080/"
        },
        "id": "cXgOeNd5schS",
        "outputId": "ea7caf9b-68ff-4f52-e286-931888fba949"
      },
      "execution_count": null,
      "outputs": [
        {
          "output_type": "stream",
          "name": "stdout",
          "text": [
            "Fitting 3 folds for each of 108 candidates, totalling 324 fits\n",
            "CPU times: user 3h 52min 56s, sys: 20.8 s, total: 3h 53min 17s\n",
            "Wall time: 3h 52min 15s\n"
          ]
        },
        {
          "output_type": "execute_result",
          "data": {
            "text/plain": [
              "GridSearchCV(cv=3, estimator=XGBClassifier(),\n",
              "             param_grid={'gamma': [0, 10, 51, 200],\n",
              "                         'learning_rate': [0.01, 0.25, 0.7],\n",
              "                         'max_depth': [5, 10, 14],\n",
              "                         'n_estimators': [50, 200, 1000]},\n",
              "             return_train_score=True, scoring='accuracy', verbose=1)"
            ]
          },
          "metadata": {},
          "execution_count": 21
        }
      ]
    },
    {
      "cell_type": "code",
      "source": [
        "clf_xgb_model.best_params_"
      ],
      "metadata": {
        "id": "bKhro0ExSN3L",
        "outputId": "dbc9ec5c-ba39-4f66-ca66-8f50f2694e69",
        "colab": {
          "base_uri": "https://localhost:8080/"
        }
      },
      "execution_count": null,
      "outputs": [
        {
          "output_type": "execute_result",
          "data": {
            "text/plain": [
              "{'gamma': 0, 'learning_rate': 0.25, 'max_depth': 10, 'n_estimators': 1000}"
            ]
          },
          "metadata": {},
          "execution_count": 22
        }
      ]
    },
    {
      "cell_type": "code",
      "source": [
        "from xgboost import XGBClassifier\n",
        "xgb_model = XGBClassifier(gamma= 0, learning_rate= 0.25, max_depth= 10,n_estimators= 1000)\n",
        "\n",
        "evalset = [(X_res, y_res), (X_val,y_val)]\n",
        "xgb_model.fit(X_res_train, y_res_train,eval_metric='logloss',eval_set=evalset)\n",
        "xgb_pred = xgb_model.predict(X_test)"
      ],
      "metadata": {
        "colab": {
          "base_uri": "https://localhost:8080/"
        },
        "id": "eY5jxjMynYAK",
        "outputId": "5ce50fd5-98fd-4da6-a679-8a96201c2ff0"
      },
      "execution_count": null,
      "outputs": [
        {
          "output_type": "stream",
          "name": "stdout",
          "text": [
            "[0]\tvalidation_0-logloss:0.564878\tvalidation_1-logloss:0.566063\n",
            "[1]\tvalidation_0-logloss:0.485621\tvalidation_1-logloss:0.487186\n",
            "[2]\tvalidation_0-logloss:0.429732\tvalidation_1-logloss:0.432073\n",
            "[3]\tvalidation_0-logloss:0.390006\tvalidation_1-logloss:0.3934\n",
            "[4]\tvalidation_0-logloss:0.360295\tvalidation_1-logloss:0.364552\n",
            "[5]\tvalidation_0-logloss:0.336301\tvalidation_1-logloss:0.341374\n",
            "[6]\tvalidation_0-logloss:0.31851\tvalidation_1-logloss:0.324123\n",
            "[7]\tvalidation_0-logloss:0.30316\tvalidation_1-logloss:0.309452\n",
            "[8]\tvalidation_0-logloss:0.291779\tvalidation_1-logloss:0.298331\n",
            "[9]\tvalidation_0-logloss:0.277342\tvalidation_1-logloss:0.284359\n",
            "[10]\tvalidation_0-logloss:0.268974\tvalidation_1-logloss:0.276585\n",
            "[11]\tvalidation_0-logloss:0.261315\tvalidation_1-logloss:0.269098\n",
            "[12]\tvalidation_0-logloss:0.256891\tvalidation_1-logloss:0.264792\n",
            "[13]\tvalidation_0-logloss:0.246707\tvalidation_1-logloss:0.255287\n",
            "[14]\tvalidation_0-logloss:0.242848\tvalidation_1-logloss:0.251575\n",
            "[15]\tvalidation_0-logloss:0.236117\tvalidation_1-logloss:0.245305\n",
            "[16]\tvalidation_0-logloss:0.229838\tvalidation_1-logloss:0.239384\n",
            "[17]\tvalidation_0-logloss:0.221296\tvalidation_1-logloss:0.231426\n",
            "[18]\tvalidation_0-logloss:0.21894\tvalidation_1-logloss:0.229367\n",
            "[19]\tvalidation_0-logloss:0.216722\tvalidation_1-logloss:0.227354\n",
            "[20]\tvalidation_0-logloss:0.198466\tvalidation_1-logloss:0.209662\n",
            "[21]\tvalidation_0-logloss:0.188937\tvalidation_1-logloss:0.200173\n",
            "[22]\tvalidation_0-logloss:0.18489\tvalidation_1-logloss:0.196509\n",
            "[23]\tvalidation_0-logloss:0.183121\tvalidation_1-logloss:0.194865\n",
            "[24]\tvalidation_0-logloss:0.176241\tvalidation_1-logloss:0.188304\n",
            "[25]\tvalidation_0-logloss:0.172841\tvalidation_1-logloss:0.185182\n",
            "[26]\tvalidation_0-logloss:0.171315\tvalidation_1-logloss:0.18373\n",
            "[27]\tvalidation_0-logloss:0.169044\tvalidation_1-logloss:0.181624\n",
            "[28]\tvalidation_0-logloss:0.158869\tvalidation_1-logloss:0.171325\n",
            "[29]\tvalidation_0-logloss:0.155529\tvalidation_1-logloss:0.168718\n",
            "[30]\tvalidation_0-logloss:0.153698\tvalidation_1-logloss:0.167319\n",
            "[31]\tvalidation_0-logloss:0.15224\tvalidation_1-logloss:0.166083\n",
            "[32]\tvalidation_0-logloss:0.144932\tvalidation_1-logloss:0.159178\n",
            "[33]\tvalidation_0-logloss:0.130475\tvalidation_1-logloss:0.145111\n",
            "[34]\tvalidation_0-logloss:0.121067\tvalidation_1-logloss:0.135788\n",
            "[35]\tvalidation_0-logloss:0.116055\tvalidation_1-logloss:0.131489\n",
            "[36]\tvalidation_0-logloss:0.112199\tvalidation_1-logloss:0.128177\n",
            "[37]\tvalidation_0-logloss:0.107553\tvalidation_1-logloss:0.123789\n",
            "[38]\tvalidation_0-logloss:0.102841\tvalidation_1-logloss:0.119399\n",
            "[39]\tvalidation_0-logloss:0.101066\tvalidation_1-logloss:0.118008\n",
            "[40]\tvalidation_0-logloss:0.09966\tvalidation_1-logloss:0.116851\n",
            "[41]\tvalidation_0-logloss:0.098959\tvalidation_1-logloss:0.116179\n",
            "[42]\tvalidation_0-logloss:0.098004\tvalidation_1-logloss:0.11542\n",
            "[43]\tvalidation_0-logloss:0.096254\tvalidation_1-logloss:0.113728\n",
            "[44]\tvalidation_0-logloss:0.091029\tvalidation_1-logloss:0.108539\n",
            "[45]\tvalidation_0-logloss:0.087069\tvalidation_1-logloss:0.104763\n",
            "[46]\tvalidation_0-logloss:0.086305\tvalidation_1-logloss:0.104199\n",
            "[47]\tvalidation_0-logloss:0.08335\tvalidation_1-logloss:0.101396\n",
            "[48]\tvalidation_0-logloss:0.080711\tvalidation_1-logloss:0.099339\n",
            "[49]\tvalidation_0-logloss:0.079068\tvalidation_1-logloss:0.097996\n",
            "[50]\tvalidation_0-logloss:0.078086\tvalidation_1-logloss:0.097362\n",
            "[51]\tvalidation_0-logloss:0.077803\tvalidation_1-logloss:0.09713\n",
            "[52]\tvalidation_0-logloss:0.075749\tvalidation_1-logloss:0.095123\n",
            "[53]\tvalidation_0-logloss:0.075458\tvalidation_1-logloss:0.094824\n",
            "[54]\tvalidation_0-logloss:0.074628\tvalidation_1-logloss:0.09407\n",
            "[55]\tvalidation_0-logloss:0.074396\tvalidation_1-logloss:0.093849\n",
            "[56]\tvalidation_0-logloss:0.074063\tvalidation_1-logloss:0.093654\n",
            "[57]\tvalidation_0-logloss:0.073743\tvalidation_1-logloss:0.093473\n",
            "[58]\tvalidation_0-logloss:0.073501\tvalidation_1-logloss:0.093263\n",
            "[59]\tvalidation_0-logloss:0.072189\tvalidation_1-logloss:0.091992\n",
            "[60]\tvalidation_0-logloss:0.069284\tvalidation_1-logloss:0.089137\n",
            "[61]\tvalidation_0-logloss:0.066728\tvalidation_1-logloss:0.08649\n",
            "[62]\tvalidation_0-logloss:0.065823\tvalidation_1-logloss:0.086143\n",
            "[63]\tvalidation_0-logloss:0.064932\tvalidation_1-logloss:0.085647\n",
            "[64]\tvalidation_0-logloss:0.063725\tvalidation_1-logloss:0.084518\n",
            "[65]\tvalidation_0-logloss:0.062353\tvalidation_1-logloss:0.083609\n",
            "[66]\tvalidation_0-logloss:0.061797\tvalidation_1-logloss:0.083455\n",
            "[67]\tvalidation_0-logloss:0.060802\tvalidation_1-logloss:0.082612\n",
            "[68]\tvalidation_0-logloss:0.060058\tvalidation_1-logloss:0.082172\n",
            "[69]\tvalidation_0-logloss:0.05957\tvalidation_1-logloss:0.081663\n",
            "[70]\tvalidation_0-logloss:0.059447\tvalidation_1-logloss:0.0816\n",
            "[71]\tvalidation_0-logloss:0.058666\tvalidation_1-logloss:0.081098\n",
            "[72]\tvalidation_0-logloss:0.058168\tvalidation_1-logloss:0.080824\n",
            "[73]\tvalidation_0-logloss:0.057329\tvalidation_1-logloss:0.079966\n",
            "[74]\tvalidation_0-logloss:0.055465\tvalidation_1-logloss:0.07798\n",
            "[75]\tvalidation_0-logloss:0.054785\tvalidation_1-logloss:0.077635\n",
            "[76]\tvalidation_0-logloss:0.054186\tvalidation_1-logloss:0.077019\n",
            "[77]\tvalidation_0-logloss:0.054049\tvalidation_1-logloss:0.076967\n",
            "[78]\tvalidation_0-logloss:0.053754\tvalidation_1-logloss:0.076748\n",
            "[79]\tvalidation_0-logloss:0.053229\tvalidation_1-logloss:0.076443\n",
            "[80]\tvalidation_0-logloss:0.051422\tvalidation_1-logloss:0.074688\n",
            "[81]\tvalidation_0-logloss:0.051065\tvalidation_1-logloss:0.074595\n",
            "[82]\tvalidation_0-logloss:0.05091\tvalidation_1-logloss:0.07457\n",
            "[83]\tvalidation_0-logloss:0.049903\tvalidation_1-logloss:0.073699\n",
            "[84]\tvalidation_0-logloss:0.048733\tvalidation_1-logloss:0.072609\n",
            "[85]\tvalidation_0-logloss:0.048043\tvalidation_1-logloss:0.071873\n",
            "[86]\tvalidation_0-logloss:0.04778\tvalidation_1-logloss:0.071694\n",
            "[87]\tvalidation_0-logloss:0.047511\tvalidation_1-logloss:0.071487\n",
            "[88]\tvalidation_0-logloss:0.047343\tvalidation_1-logloss:0.071373\n",
            "[89]\tvalidation_0-logloss:0.046988\tvalidation_1-logloss:0.071277\n",
            "[90]\tvalidation_0-logloss:0.046775\tvalidation_1-logloss:0.071106\n",
            "[91]\tvalidation_0-logloss:0.046342\tvalidation_1-logloss:0.070922\n",
            "[92]\tvalidation_0-logloss:0.045773\tvalidation_1-logloss:0.070562\n",
            "[93]\tvalidation_0-logloss:0.04546\tvalidation_1-logloss:0.070232\n",
            "[94]\tvalidation_0-logloss:0.045295\tvalidation_1-logloss:0.070094\n",
            "[95]\tvalidation_0-logloss:0.044164\tvalidation_1-logloss:0.068913\n",
            "[96]\tvalidation_0-logloss:0.043913\tvalidation_1-logloss:0.068797\n",
            "[97]\tvalidation_0-logloss:0.043696\tvalidation_1-logloss:0.068785\n",
            "[98]\tvalidation_0-logloss:0.043667\tvalidation_1-logloss:0.068789\n",
            "[99]\tvalidation_0-logloss:0.043382\tvalidation_1-logloss:0.068676\n",
            "[100]\tvalidation_0-logloss:0.043351\tvalidation_1-logloss:0.068672\n",
            "[101]\tvalidation_0-logloss:0.043252\tvalidation_1-logloss:0.068616\n",
            "[102]\tvalidation_0-logloss:0.043149\tvalidation_1-logloss:0.068552\n",
            "[103]\tvalidation_0-logloss:0.043054\tvalidation_1-logloss:0.068521\n",
            "[104]\tvalidation_0-logloss:0.042925\tvalidation_1-logloss:0.068378\n",
            "[105]\tvalidation_0-logloss:0.042749\tvalidation_1-logloss:0.068215\n",
            "[106]\tvalidation_0-logloss:0.042571\tvalidation_1-logloss:0.068179\n",
            "[107]\tvalidation_0-logloss:0.042304\tvalidation_1-logloss:0.068124\n",
            "[108]\tvalidation_0-logloss:0.041587\tvalidation_1-logloss:0.067388\n",
            "[109]\tvalidation_0-logloss:0.041306\tvalidation_1-logloss:0.067094\n",
            "[110]\tvalidation_0-logloss:0.04096\tvalidation_1-logloss:0.066822\n",
            "[111]\tvalidation_0-logloss:0.040545\tvalidation_1-logloss:0.066475\n",
            "[112]\tvalidation_0-logloss:0.040357\tvalidation_1-logloss:0.066478\n",
            "[113]\tvalidation_0-logloss:0.040154\tvalidation_1-logloss:0.066369\n",
            "[114]\tvalidation_0-logloss:0.040025\tvalidation_1-logloss:0.06632\n",
            "[115]\tvalidation_0-logloss:0.039921\tvalidation_1-logloss:0.066227\n",
            "[116]\tvalidation_0-logloss:0.03984\tvalidation_1-logloss:0.066174\n",
            "[117]\tvalidation_0-logloss:0.039498\tvalidation_1-logloss:0.065935\n",
            "[118]\tvalidation_0-logloss:0.03921\tvalidation_1-logloss:0.065747\n",
            "[119]\tvalidation_0-logloss:0.039002\tvalidation_1-logloss:0.0655\n",
            "[120]\tvalidation_0-logloss:0.038727\tvalidation_1-logloss:0.065401\n",
            "[121]\tvalidation_0-logloss:0.038477\tvalidation_1-logloss:0.065368\n",
            "[122]\tvalidation_0-logloss:0.038278\tvalidation_1-logloss:0.065198\n",
            "[123]\tvalidation_0-logloss:0.038188\tvalidation_1-logloss:0.065156\n",
            "[124]\tvalidation_0-logloss:0.038158\tvalidation_1-logloss:0.065153\n",
            "[125]\tvalidation_0-logloss:0.037892\tvalidation_1-logloss:0.065015\n",
            "[126]\tvalidation_0-logloss:0.037787\tvalidation_1-logloss:0.064983\n",
            "[127]\tvalidation_0-logloss:0.037612\tvalidation_1-logloss:0.064829\n",
            "[128]\tvalidation_0-logloss:0.037165\tvalidation_1-logloss:0.064339\n",
            "[129]\tvalidation_0-logloss:0.036642\tvalidation_1-logloss:0.063756\n",
            "[130]\tvalidation_0-logloss:0.036386\tvalidation_1-logloss:0.06366\n",
            "[131]\tvalidation_0-logloss:0.036275\tvalidation_1-logloss:0.063633\n",
            "[132]\tvalidation_0-logloss:0.036179\tvalidation_1-logloss:0.063639\n",
            "[133]\tvalidation_0-logloss:0.036098\tvalidation_1-logloss:0.0636\n",
            "[134]\tvalidation_0-logloss:0.035942\tvalidation_1-logloss:0.06366\n",
            "[135]\tvalidation_0-logloss:0.0356\tvalidation_1-logloss:0.063453\n",
            "[136]\tvalidation_0-logloss:0.035431\tvalidation_1-logloss:0.063344\n",
            "[137]\tvalidation_0-logloss:0.035359\tvalidation_1-logloss:0.063375\n",
            "[138]\tvalidation_0-logloss:0.03517\tvalidation_1-logloss:0.063238\n",
            "[139]\tvalidation_0-logloss:0.035121\tvalidation_1-logloss:0.063244\n",
            "[140]\tvalidation_0-logloss:0.034974\tvalidation_1-logloss:0.063285\n",
            "[141]\tvalidation_0-logloss:0.034634\tvalidation_1-logloss:0.062903\n",
            "[142]\tvalidation_0-logloss:0.034344\tvalidation_1-logloss:0.062755\n",
            "[143]\tvalidation_0-logloss:0.034178\tvalidation_1-logloss:0.062559\n",
            "[144]\tvalidation_0-logloss:0.033913\tvalidation_1-logloss:0.062278\n",
            "[145]\tvalidation_0-logloss:0.03361\tvalidation_1-logloss:0.062003\n",
            "[146]\tvalidation_0-logloss:0.033411\tvalidation_1-logloss:0.06204\n",
            "[147]\tvalidation_0-logloss:0.033373\tvalidation_1-logloss:0.062053\n",
            "[148]\tvalidation_0-logloss:0.032971\tvalidation_1-logloss:0.061759\n",
            "[149]\tvalidation_0-logloss:0.032809\tvalidation_1-logloss:0.061715\n",
            "[150]\tvalidation_0-logloss:0.032615\tvalidation_1-logloss:0.061567\n",
            "[151]\tvalidation_0-logloss:0.032467\tvalidation_1-logloss:0.061521\n",
            "[152]\tvalidation_0-logloss:0.032385\tvalidation_1-logloss:0.061554\n",
            "[153]\tvalidation_0-logloss:0.032244\tvalidation_1-logloss:0.061445\n",
            "[154]\tvalidation_0-logloss:0.031821\tvalidation_1-logloss:0.061054\n",
            "[155]\tvalidation_0-logloss:0.031718\tvalidation_1-logloss:0.06107\n",
            "[156]\tvalidation_0-logloss:0.03169\tvalidation_1-logloss:0.061061\n",
            "[157]\tvalidation_0-logloss:0.031608\tvalidation_1-logloss:0.06106\n",
            "[158]\tvalidation_0-logloss:0.031554\tvalidation_1-logloss:0.061075\n",
            "[159]\tvalidation_0-logloss:0.031544\tvalidation_1-logloss:0.061068\n",
            "[160]\tvalidation_0-logloss:0.031515\tvalidation_1-logloss:0.06105\n",
            "[161]\tvalidation_0-logloss:0.031472\tvalidation_1-logloss:0.061023\n",
            "[162]\tvalidation_0-logloss:0.031407\tvalidation_1-logloss:0.061028\n",
            "[163]\tvalidation_0-logloss:0.03133\tvalidation_1-logloss:0.06101\n",
            "[164]\tvalidation_0-logloss:0.031307\tvalidation_1-logloss:0.060993\n",
            "[165]\tvalidation_0-logloss:0.031265\tvalidation_1-logloss:0.060983\n",
            "[166]\tvalidation_0-logloss:0.031255\tvalidation_1-logloss:0.060979\n",
            "[167]\tvalidation_0-logloss:0.031211\tvalidation_1-logloss:0.060983\n",
            "[168]\tvalidation_0-logloss:0.031172\tvalidation_1-logloss:0.060992\n",
            "[169]\tvalidation_0-logloss:0.031069\tvalidation_1-logloss:0.060933\n",
            "[170]\tvalidation_0-logloss:0.031057\tvalidation_1-logloss:0.060963\n",
            "[171]\tvalidation_0-logloss:0.030942\tvalidation_1-logloss:0.060858\n",
            "[172]\tvalidation_0-logloss:0.030907\tvalidation_1-logloss:0.060879\n",
            "[173]\tvalidation_0-logloss:0.030812\tvalidation_1-logloss:0.060874\n",
            "[174]\tvalidation_0-logloss:0.030609\tvalidation_1-logloss:0.060733\n",
            "[175]\tvalidation_0-logloss:0.030532\tvalidation_1-logloss:0.060725\n",
            "[176]\tvalidation_0-logloss:0.030452\tvalidation_1-logloss:0.060698\n",
            "[177]\tvalidation_0-logloss:0.030442\tvalidation_1-logloss:0.060727\n",
            "[178]\tvalidation_0-logloss:0.030327\tvalidation_1-logloss:0.06063\n",
            "[179]\tvalidation_0-logloss:0.030201\tvalidation_1-logloss:0.060609\n",
            "[180]\tvalidation_0-logloss:0.030092\tvalidation_1-logloss:0.060537\n",
            "[181]\tvalidation_0-logloss:0.029914\tvalidation_1-logloss:0.060438\n",
            "[182]\tvalidation_0-logloss:0.029858\tvalidation_1-logloss:0.06044\n",
            "[183]\tvalidation_0-logloss:0.029771\tvalidation_1-logloss:0.060417\n",
            "[184]\tvalidation_0-logloss:0.029682\tvalidation_1-logloss:0.060393\n",
            "[185]\tvalidation_0-logloss:0.029568\tvalidation_1-logloss:0.060391\n",
            "[186]\tvalidation_0-logloss:0.029429\tvalidation_1-logloss:0.060259\n",
            "[187]\tvalidation_0-logloss:0.02931\tvalidation_1-logloss:0.060189\n",
            "[188]\tvalidation_0-logloss:0.029206\tvalidation_1-logloss:0.060079\n",
            "[189]\tvalidation_0-logloss:0.029045\tvalidation_1-logloss:0.060035\n",
            "[190]\tvalidation_0-logloss:0.029023\tvalidation_1-logloss:0.060058\n",
            "[191]\tvalidation_0-logloss:0.028983\tvalidation_1-logloss:0.060086\n",
            "[192]\tvalidation_0-logloss:0.028926\tvalidation_1-logloss:0.060032\n",
            "[193]\tvalidation_0-logloss:0.0289\tvalidation_1-logloss:0.06002\n",
            "[194]\tvalidation_0-logloss:0.028763\tvalidation_1-logloss:0.059946\n",
            "[195]\tvalidation_0-logloss:0.028732\tvalidation_1-logloss:0.059939\n",
            "[196]\tvalidation_0-logloss:0.028598\tvalidation_1-logloss:0.059893\n",
            "[197]\tvalidation_0-logloss:0.028375\tvalidation_1-logloss:0.059712\n",
            "[198]\tvalidation_0-logloss:0.028221\tvalidation_1-logloss:0.059583\n",
            "[199]\tvalidation_0-logloss:0.028098\tvalidation_1-logloss:0.059592\n",
            "[200]\tvalidation_0-logloss:0.027995\tvalidation_1-logloss:0.059513\n",
            "[201]\tvalidation_0-logloss:0.027783\tvalidation_1-logloss:0.059239\n",
            "[202]\tvalidation_0-logloss:0.027729\tvalidation_1-logloss:0.05926\n",
            "[203]\tvalidation_0-logloss:0.027699\tvalidation_1-logloss:0.059244\n",
            "[204]\tvalidation_0-logloss:0.027585\tvalidation_1-logloss:0.059143\n",
            "[205]\tvalidation_0-logloss:0.027561\tvalidation_1-logloss:0.059126\n",
            "[206]\tvalidation_0-logloss:0.027522\tvalidation_1-logloss:0.059112\n",
            "[207]\tvalidation_0-logloss:0.027456\tvalidation_1-logloss:0.059193\n",
            "[208]\tvalidation_0-logloss:0.027435\tvalidation_1-logloss:0.059185\n",
            "[209]\tvalidation_0-logloss:0.027339\tvalidation_1-logloss:0.059179\n",
            "[210]\tvalidation_0-logloss:0.027271\tvalidation_1-logloss:0.059237\n",
            "[211]\tvalidation_0-logloss:0.027186\tvalidation_1-logloss:0.059304\n",
            "[212]\tvalidation_0-logloss:0.027138\tvalidation_1-logloss:0.059275\n",
            "[213]\tvalidation_0-logloss:0.027083\tvalidation_1-logloss:0.059241\n",
            "[214]\tvalidation_0-logloss:0.027008\tvalidation_1-logloss:0.059237\n",
            "[215]\tvalidation_0-logloss:0.026973\tvalidation_1-logloss:0.059219\n",
            "[216]\tvalidation_0-logloss:0.026883\tvalidation_1-logloss:0.059235\n",
            "[217]\tvalidation_0-logloss:0.026804\tvalidation_1-logloss:0.059155\n",
            "[218]\tvalidation_0-logloss:0.026757\tvalidation_1-logloss:0.059216\n",
            "[219]\tvalidation_0-logloss:0.026675\tvalidation_1-logloss:0.059195\n",
            "[220]\tvalidation_0-logloss:0.026576\tvalidation_1-logloss:0.059163\n",
            "[221]\tvalidation_0-logloss:0.026488\tvalidation_1-logloss:0.059226\n",
            "[222]\tvalidation_0-logloss:0.026314\tvalidation_1-logloss:0.059044\n",
            "[223]\tvalidation_0-logloss:0.026278\tvalidation_1-logloss:0.059124\n",
            "[224]\tvalidation_0-logloss:0.026146\tvalidation_1-logloss:0.059025\n",
            "[225]\tvalidation_0-logloss:0.026044\tvalidation_1-logloss:0.059063\n",
            "[226]\tvalidation_0-logloss:0.025961\tvalidation_1-logloss:0.059015\n",
            "[227]\tvalidation_0-logloss:0.025936\tvalidation_1-logloss:0.059072\n",
            "[228]\tvalidation_0-logloss:0.025919\tvalidation_1-logloss:0.059109\n",
            "[229]\tvalidation_0-logloss:0.025819\tvalidation_1-logloss:0.059007\n",
            "[230]\tvalidation_0-logloss:0.02581\tvalidation_1-logloss:0.059054\n",
            "[231]\tvalidation_0-logloss:0.02577\tvalidation_1-logloss:0.05911\n",
            "[232]\tvalidation_0-logloss:0.02572\tvalidation_1-logloss:0.059075\n",
            "[233]\tvalidation_0-logloss:0.025651\tvalidation_1-logloss:0.058993\n",
            "[234]\tvalidation_0-logloss:0.025608\tvalidation_1-logloss:0.058971\n",
            "[235]\tvalidation_0-logloss:0.025501\tvalidation_1-logloss:0.05889\n",
            "[236]\tvalidation_0-logloss:0.025426\tvalidation_1-logloss:0.058915\n",
            "[237]\tvalidation_0-logloss:0.025367\tvalidation_1-logloss:0.058974\n",
            "[238]\tvalidation_0-logloss:0.025246\tvalidation_1-logloss:0.058863\n",
            "[239]\tvalidation_0-logloss:0.025196\tvalidation_1-logloss:0.058856\n",
            "[240]\tvalidation_0-logloss:0.025165\tvalidation_1-logloss:0.058845\n",
            "[241]\tvalidation_0-logloss:0.025156\tvalidation_1-logloss:0.05885\n",
            "[242]\tvalidation_0-logloss:0.02515\tvalidation_1-logloss:0.058845\n",
            "[243]\tvalidation_0-logloss:0.025095\tvalidation_1-logloss:0.058819\n",
            "[244]\tvalidation_0-logloss:0.025072\tvalidation_1-logloss:0.058812\n",
            "[245]\tvalidation_0-logloss:0.025016\tvalidation_1-logloss:0.058817\n",
            "[246]\tvalidation_0-logloss:0.024961\tvalidation_1-logloss:0.058815\n",
            "[247]\tvalidation_0-logloss:0.024955\tvalidation_1-logloss:0.058828\n",
            "[248]\tvalidation_0-logloss:0.024937\tvalidation_1-logloss:0.0588\n",
            "[249]\tvalidation_0-logloss:0.024872\tvalidation_1-logloss:0.058775\n",
            "[250]\tvalidation_0-logloss:0.024779\tvalidation_1-logloss:0.058807\n",
            "[251]\tvalidation_0-logloss:0.02478\tvalidation_1-logloss:0.058844\n",
            "[252]\tvalidation_0-logloss:0.024733\tvalidation_1-logloss:0.05886\n",
            "[253]\tvalidation_0-logloss:0.024726\tvalidation_1-logloss:0.058871\n",
            "[254]\tvalidation_0-logloss:0.024683\tvalidation_1-logloss:0.058895\n",
            "[255]\tvalidation_0-logloss:0.024657\tvalidation_1-logloss:0.058869\n",
            "[256]\tvalidation_0-logloss:0.024648\tvalidation_1-logloss:0.058876\n",
            "[257]\tvalidation_0-logloss:0.024552\tvalidation_1-logloss:0.058809\n",
            "[258]\tvalidation_0-logloss:0.024515\tvalidation_1-logloss:0.058927\n",
            "[259]\tvalidation_0-logloss:0.024512\tvalidation_1-logloss:0.058931\n",
            "[260]\tvalidation_0-logloss:0.024494\tvalidation_1-logloss:0.058956\n",
            "[261]\tvalidation_0-logloss:0.024489\tvalidation_1-logloss:0.058977\n",
            "[262]\tvalidation_0-logloss:0.024431\tvalidation_1-logloss:0.058967\n",
            "[263]\tvalidation_0-logloss:0.024325\tvalidation_1-logloss:0.058804\n",
            "[264]\tvalidation_0-logloss:0.02431\tvalidation_1-logloss:0.058832\n",
            "[265]\tvalidation_0-logloss:0.024304\tvalidation_1-logloss:0.058835\n",
            "[266]\tvalidation_0-logloss:0.024203\tvalidation_1-logloss:0.058714\n",
            "[267]\tvalidation_0-logloss:0.024191\tvalidation_1-logloss:0.058709\n",
            "[268]\tvalidation_0-logloss:0.024143\tvalidation_1-logloss:0.058694\n",
            "[269]\tvalidation_0-logloss:0.024128\tvalidation_1-logloss:0.058732\n",
            "[270]\tvalidation_0-logloss:0.024064\tvalidation_1-logloss:0.05863\n",
            "[271]\tvalidation_0-logloss:0.024043\tvalidation_1-logloss:0.058644\n",
            "[272]\tvalidation_0-logloss:0.024028\tvalidation_1-logloss:0.058691\n",
            "[273]\tvalidation_0-logloss:0.023975\tvalidation_1-logloss:0.058657\n",
            "[274]\tvalidation_0-logloss:0.023965\tvalidation_1-logloss:0.058659\n",
            "[275]\tvalidation_0-logloss:0.023947\tvalidation_1-logloss:0.058705\n",
            "[276]\tvalidation_0-logloss:0.023897\tvalidation_1-logloss:0.058692\n",
            "[277]\tvalidation_0-logloss:0.023849\tvalidation_1-logloss:0.058651\n",
            "[278]\tvalidation_0-logloss:0.02381\tvalidation_1-logloss:0.058735\n",
            "[279]\tvalidation_0-logloss:0.023787\tvalidation_1-logloss:0.058724\n",
            "[280]\tvalidation_0-logloss:0.023767\tvalidation_1-logloss:0.058796\n",
            "[281]\tvalidation_0-logloss:0.023733\tvalidation_1-logloss:0.058841\n",
            "[282]\tvalidation_0-logloss:0.023719\tvalidation_1-logloss:0.058876\n",
            "[283]\tvalidation_0-logloss:0.023721\tvalidation_1-logloss:0.05898\n",
            "[284]\tvalidation_0-logloss:0.023689\tvalidation_1-logloss:0.059053\n",
            "[285]\tvalidation_0-logloss:0.023685\tvalidation_1-logloss:0.059058\n",
            "[286]\tvalidation_0-logloss:0.023644\tvalidation_1-logloss:0.059064\n",
            "[287]\tvalidation_0-logloss:0.023554\tvalidation_1-logloss:0.058979\n",
            "[288]\tvalidation_0-logloss:0.023533\tvalidation_1-logloss:0.058986\n",
            "[289]\tvalidation_0-logloss:0.023525\tvalidation_1-logloss:0.059018\n",
            "[290]\tvalidation_0-logloss:0.023524\tvalidation_1-logloss:0.059059\n",
            "[291]\tvalidation_0-logloss:0.023509\tvalidation_1-logloss:0.059066\n",
            "[292]\tvalidation_0-logloss:0.023505\tvalidation_1-logloss:0.059064\n",
            "[293]\tvalidation_0-logloss:0.023496\tvalidation_1-logloss:0.059055\n",
            "[294]\tvalidation_0-logloss:0.023494\tvalidation_1-logloss:0.059101\n",
            "[295]\tvalidation_0-logloss:0.023488\tvalidation_1-logloss:0.0591\n",
            "[296]\tvalidation_0-logloss:0.023479\tvalidation_1-logloss:0.059122\n",
            "[297]\tvalidation_0-logloss:0.023437\tvalidation_1-logloss:0.059103\n",
            "[298]\tvalidation_0-logloss:0.023371\tvalidation_1-logloss:0.059035\n",
            "[299]\tvalidation_0-logloss:0.023348\tvalidation_1-logloss:0.059081\n",
            "[300]\tvalidation_0-logloss:0.023336\tvalidation_1-logloss:0.059116\n",
            "[301]\tvalidation_0-logloss:0.023316\tvalidation_1-logloss:0.059146\n",
            "[302]\tvalidation_0-logloss:0.023295\tvalidation_1-logloss:0.059191\n",
            "[303]\tvalidation_0-logloss:0.023277\tvalidation_1-logloss:0.059286\n",
            "[304]\tvalidation_0-logloss:0.023264\tvalidation_1-logloss:0.059282\n",
            "[305]\tvalidation_0-logloss:0.023259\tvalidation_1-logloss:0.059287\n",
            "[306]\tvalidation_0-logloss:0.023246\tvalidation_1-logloss:0.059357\n",
            "[307]\tvalidation_0-logloss:0.023242\tvalidation_1-logloss:0.059361\n",
            "[308]\tvalidation_0-logloss:0.023239\tvalidation_1-logloss:0.059411\n",
            "[309]\tvalidation_0-logloss:0.023212\tvalidation_1-logloss:0.059389\n",
            "[310]\tvalidation_0-logloss:0.023197\tvalidation_1-logloss:0.059424\n",
            "[311]\tvalidation_0-logloss:0.023173\tvalidation_1-logloss:0.059461\n",
            "[312]\tvalidation_0-logloss:0.02316\tvalidation_1-logloss:0.059494\n",
            "[313]\tvalidation_0-logloss:0.02314\tvalidation_1-logloss:0.059525\n",
            "[314]\tvalidation_0-logloss:0.023129\tvalidation_1-logloss:0.059533\n",
            "[315]\tvalidation_0-logloss:0.023094\tvalidation_1-logloss:0.059605\n",
            "[316]\tvalidation_0-logloss:0.023087\tvalidation_1-logloss:0.059636\n",
            "[317]\tvalidation_0-logloss:0.023077\tvalidation_1-logloss:0.059631\n",
            "[318]\tvalidation_0-logloss:0.023059\tvalidation_1-logloss:0.05961\n",
            "[319]\tvalidation_0-logloss:0.023049\tvalidation_1-logloss:0.059594\n",
            "[320]\tvalidation_0-logloss:0.023043\tvalidation_1-logloss:0.059637\n",
            "[321]\tvalidation_0-logloss:0.023014\tvalidation_1-logloss:0.059591\n",
            "[322]\tvalidation_0-logloss:0.023016\tvalidation_1-logloss:0.059622\n",
            "[323]\tvalidation_0-logloss:0.023015\tvalidation_1-logloss:0.059679\n",
            "[324]\tvalidation_0-logloss:0.023001\tvalidation_1-logloss:0.059677\n",
            "[325]\tvalidation_0-logloss:0.022972\tvalidation_1-logloss:0.059659\n",
            "[326]\tvalidation_0-logloss:0.02293\tvalidation_1-logloss:0.059654\n",
            "[327]\tvalidation_0-logloss:0.022914\tvalidation_1-logloss:0.059692\n",
            "[328]\tvalidation_0-logloss:0.022902\tvalidation_1-logloss:0.059695\n",
            "[329]\tvalidation_0-logloss:0.022896\tvalidation_1-logloss:0.059706\n",
            "[330]\tvalidation_0-logloss:0.022863\tvalidation_1-logloss:0.05973\n",
            "[331]\tvalidation_0-logloss:0.022843\tvalidation_1-logloss:0.059712\n",
            "[332]\tvalidation_0-logloss:0.022835\tvalidation_1-logloss:0.059764\n",
            "[333]\tvalidation_0-logloss:0.022748\tvalidation_1-logloss:0.059669\n",
            "[334]\tvalidation_0-logloss:0.02274\tvalidation_1-logloss:0.059705\n",
            "[335]\tvalidation_0-logloss:0.022693\tvalidation_1-logloss:0.059661\n",
            "[336]\tvalidation_0-logloss:0.022662\tvalidation_1-logloss:0.059703\n",
            "[337]\tvalidation_0-logloss:0.022585\tvalidation_1-logloss:0.059595\n",
            "[338]\tvalidation_0-logloss:0.022583\tvalidation_1-logloss:0.059641\n",
            "[339]\tvalidation_0-logloss:0.022583\tvalidation_1-logloss:0.059652\n",
            "[340]\tvalidation_0-logloss:0.02257\tvalidation_1-logloss:0.059702\n",
            "[341]\tvalidation_0-logloss:0.022548\tvalidation_1-logloss:0.059705\n",
            "[342]\tvalidation_0-logloss:0.02252\tvalidation_1-logloss:0.059723\n",
            "[343]\tvalidation_0-logloss:0.022507\tvalidation_1-logloss:0.059749\n",
            "[344]\tvalidation_0-logloss:0.022503\tvalidation_1-logloss:0.05975\n",
            "[345]\tvalidation_0-logloss:0.022497\tvalidation_1-logloss:0.059819\n",
            "[346]\tvalidation_0-logloss:0.022492\tvalidation_1-logloss:0.059841\n",
            "[347]\tvalidation_0-logloss:0.022484\tvalidation_1-logloss:0.059867\n",
            "[348]\tvalidation_0-logloss:0.02248\tvalidation_1-logloss:0.059867\n",
            "[349]\tvalidation_0-logloss:0.022476\tvalidation_1-logloss:0.059884\n",
            "[350]\tvalidation_0-logloss:0.02247\tvalidation_1-logloss:0.059903\n",
            "[351]\tvalidation_0-logloss:0.022463\tvalidation_1-logloss:0.059917\n",
            "[352]\tvalidation_0-logloss:0.022458\tvalidation_1-logloss:0.059923\n",
            "[353]\tvalidation_0-logloss:0.022449\tvalidation_1-logloss:0.059948\n",
            "[354]\tvalidation_0-logloss:0.0224\tvalidation_1-logloss:0.059953\n",
            "[355]\tvalidation_0-logloss:0.022378\tvalidation_1-logloss:0.059951\n",
            "[356]\tvalidation_0-logloss:0.022362\tvalidation_1-logloss:0.059937\n",
            "[357]\tvalidation_0-logloss:0.022338\tvalidation_1-logloss:0.059911\n",
            "[358]\tvalidation_0-logloss:0.022331\tvalidation_1-logloss:0.05991\n",
            "[359]\tvalidation_0-logloss:0.022329\tvalidation_1-logloss:0.059987\n",
            "[360]\tvalidation_0-logloss:0.022307\tvalidation_1-logloss:0.059957\n",
            "[361]\tvalidation_0-logloss:0.022311\tvalidation_1-logloss:0.060013\n",
            "[362]\tvalidation_0-logloss:0.022307\tvalidation_1-logloss:0.060022\n",
            "[363]\tvalidation_0-logloss:0.022303\tvalidation_1-logloss:0.060024\n",
            "[364]\tvalidation_0-logloss:0.02228\tvalidation_1-logloss:0.060049\n",
            "[365]\tvalidation_0-logloss:0.02226\tvalidation_1-logloss:0.060022\n",
            "[366]\tvalidation_0-logloss:0.022249\tvalidation_1-logloss:0.060035\n",
            "[367]\tvalidation_0-logloss:0.022235\tvalidation_1-logloss:0.060074\n",
            "[368]\tvalidation_0-logloss:0.022215\tvalidation_1-logloss:0.060078\n",
            "[369]\tvalidation_0-logloss:0.022211\tvalidation_1-logloss:0.060096\n",
            "[370]\tvalidation_0-logloss:0.022178\tvalidation_1-logloss:0.060073\n",
            "[371]\tvalidation_0-logloss:0.022153\tvalidation_1-logloss:0.060062\n",
            "[372]\tvalidation_0-logloss:0.022123\tvalidation_1-logloss:0.06007\n",
            "[373]\tvalidation_0-logloss:0.022115\tvalidation_1-logloss:0.06005\n",
            "[374]\tvalidation_0-logloss:0.022094\tvalidation_1-logloss:0.060045\n",
            "[375]\tvalidation_0-logloss:0.022059\tvalidation_1-logloss:0.060022\n",
            "[376]\tvalidation_0-logloss:0.022047\tvalidation_1-logloss:0.060032\n",
            "[377]\tvalidation_0-logloss:0.022035\tvalidation_1-logloss:0.06002\n",
            "[378]\tvalidation_0-logloss:0.022039\tvalidation_1-logloss:0.060065\n",
            "[379]\tvalidation_0-logloss:0.022024\tvalidation_1-logloss:0.06006\n",
            "[380]\tvalidation_0-logloss:0.022014\tvalidation_1-logloss:0.06007\n",
            "[381]\tvalidation_0-logloss:0.02201\tvalidation_1-logloss:0.060084\n",
            "[382]\tvalidation_0-logloss:0.022008\tvalidation_1-logloss:0.060091\n",
            "[383]\tvalidation_0-logloss:0.021987\tvalidation_1-logloss:0.060094\n",
            "[384]\tvalidation_0-logloss:0.021977\tvalidation_1-logloss:0.060092\n",
            "[385]\tvalidation_0-logloss:0.02195\tvalidation_1-logloss:0.060121\n",
            "[386]\tvalidation_0-logloss:0.021942\tvalidation_1-logloss:0.060125\n",
            "[387]\tvalidation_0-logloss:0.02191\tvalidation_1-logloss:0.060119\n",
            "[388]\tvalidation_0-logloss:0.021896\tvalidation_1-logloss:0.060112\n",
            "[389]\tvalidation_0-logloss:0.021896\tvalidation_1-logloss:0.060136\n",
            "[390]\tvalidation_0-logloss:0.021872\tvalidation_1-logloss:0.060199\n",
            "[391]\tvalidation_0-logloss:0.021872\tvalidation_1-logloss:0.060206\n",
            "[392]\tvalidation_0-logloss:0.021873\tvalidation_1-logloss:0.060232\n",
            "[393]\tvalidation_0-logloss:0.021866\tvalidation_1-logloss:0.060236\n",
            "[394]\tvalidation_0-logloss:0.021856\tvalidation_1-logloss:0.060217\n",
            "[395]\tvalidation_0-logloss:0.021856\tvalidation_1-logloss:0.060243\n",
            "[396]\tvalidation_0-logloss:0.02186\tvalidation_1-logloss:0.060269\n",
            "[397]\tvalidation_0-logloss:0.021859\tvalidation_1-logloss:0.060304\n",
            "[398]\tvalidation_0-logloss:0.021856\tvalidation_1-logloss:0.060324\n",
            "[399]\tvalidation_0-logloss:0.021851\tvalidation_1-logloss:0.060323\n",
            "[400]\tvalidation_0-logloss:0.021842\tvalidation_1-logloss:0.060376\n",
            "[401]\tvalidation_0-logloss:0.02184\tvalidation_1-logloss:0.0604\n",
            "[402]\tvalidation_0-logloss:0.021823\tvalidation_1-logloss:0.060397\n",
            "[403]\tvalidation_0-logloss:0.021826\tvalidation_1-logloss:0.060466\n",
            "[404]\tvalidation_0-logloss:0.021811\tvalidation_1-logloss:0.060492\n",
            "[405]\tvalidation_0-logloss:0.021796\tvalidation_1-logloss:0.060497\n",
            "[406]\tvalidation_0-logloss:0.021774\tvalidation_1-logloss:0.060489\n",
            "[407]\tvalidation_0-logloss:0.021771\tvalidation_1-logloss:0.060516\n",
            "[408]\tvalidation_0-logloss:0.021772\tvalidation_1-logloss:0.060592\n",
            "[409]\tvalidation_0-logloss:0.021739\tvalidation_1-logloss:0.060554\n",
            "[410]\tvalidation_0-logloss:0.021718\tvalidation_1-logloss:0.060559\n",
            "[411]\tvalidation_0-logloss:0.021716\tvalidation_1-logloss:0.060586\n",
            "[412]\tvalidation_0-logloss:0.021708\tvalidation_1-logloss:0.06059\n",
            "[413]\tvalidation_0-logloss:0.021696\tvalidation_1-logloss:0.060604\n",
            "[414]\tvalidation_0-logloss:0.021687\tvalidation_1-logloss:0.060606\n",
            "[415]\tvalidation_0-logloss:0.021665\tvalidation_1-logloss:0.060597\n",
            "[416]\tvalidation_0-logloss:0.021653\tvalidation_1-logloss:0.060613\n",
            "[417]\tvalidation_0-logloss:0.021631\tvalidation_1-logloss:0.060606\n",
            "[418]\tvalidation_0-logloss:0.021627\tvalidation_1-logloss:0.060668\n",
            "[419]\tvalidation_0-logloss:0.021623\tvalidation_1-logloss:0.060701\n",
            "[420]\tvalidation_0-logloss:0.021625\tvalidation_1-logloss:0.060732\n",
            "[421]\tvalidation_0-logloss:0.021611\tvalidation_1-logloss:0.060726\n",
            "[422]\tvalidation_0-logloss:0.021599\tvalidation_1-logloss:0.060742\n",
            "[423]\tvalidation_0-logloss:0.021602\tvalidation_1-logloss:0.060777\n",
            "[424]\tvalidation_0-logloss:0.021595\tvalidation_1-logloss:0.060811\n",
            "[425]\tvalidation_0-logloss:0.021581\tvalidation_1-logloss:0.06081\n",
            "[426]\tvalidation_0-logloss:0.021582\tvalidation_1-logloss:0.060837\n",
            "[427]\tvalidation_0-logloss:0.021576\tvalidation_1-logloss:0.060833\n",
            "[428]\tvalidation_0-logloss:0.021571\tvalidation_1-logloss:0.060838\n",
            "[429]\tvalidation_0-logloss:0.021564\tvalidation_1-logloss:0.060847\n",
            "[430]\tvalidation_0-logloss:0.02154\tvalidation_1-logloss:0.06082\n",
            "[431]\tvalidation_0-logloss:0.021524\tvalidation_1-logloss:0.060813\n",
            "[432]\tvalidation_0-logloss:0.021519\tvalidation_1-logloss:0.06083\n",
            "[433]\tvalidation_0-logloss:0.021509\tvalidation_1-logloss:0.060813\n",
            "[434]\tvalidation_0-logloss:0.021491\tvalidation_1-logloss:0.060812\n",
            "[435]\tvalidation_0-logloss:0.021475\tvalidation_1-logloss:0.060793\n",
            "[436]\tvalidation_0-logloss:0.021477\tvalidation_1-logloss:0.060841\n",
            "[437]\tvalidation_0-logloss:0.021461\tvalidation_1-logloss:0.060858\n",
            "[438]\tvalidation_0-logloss:0.021441\tvalidation_1-logloss:0.060837\n",
            "[439]\tvalidation_0-logloss:0.021436\tvalidation_1-logloss:0.060835\n",
            "[440]\tvalidation_0-logloss:0.021434\tvalidation_1-logloss:0.060874\n",
            "[441]\tvalidation_0-logloss:0.021433\tvalidation_1-logloss:0.060893\n",
            "[442]\tvalidation_0-logloss:0.021422\tvalidation_1-logloss:0.060884\n",
            "[443]\tvalidation_0-logloss:0.021417\tvalidation_1-logloss:0.060903\n",
            "[444]\tvalidation_0-logloss:0.0214\tvalidation_1-logloss:0.060914\n",
            "[445]\tvalidation_0-logloss:0.021399\tvalidation_1-logloss:0.060928\n",
            "[446]\tvalidation_0-logloss:0.021395\tvalidation_1-logloss:0.060942\n",
            "[447]\tvalidation_0-logloss:0.021377\tvalidation_1-logloss:0.060918\n",
            "[448]\tvalidation_0-logloss:0.021356\tvalidation_1-logloss:0.060885\n",
            "[449]\tvalidation_0-logloss:0.021357\tvalidation_1-logloss:0.0609\n",
            "[450]\tvalidation_0-logloss:0.021348\tvalidation_1-logloss:0.060917\n",
            "[451]\tvalidation_0-logloss:0.021349\tvalidation_1-logloss:0.060941\n",
            "[452]\tvalidation_0-logloss:0.021344\tvalidation_1-logloss:0.060943\n",
            "[453]\tvalidation_0-logloss:0.021333\tvalidation_1-logloss:0.060961\n",
            "[454]\tvalidation_0-logloss:0.021316\tvalidation_1-logloss:0.060935\n",
            "[455]\tvalidation_0-logloss:0.021311\tvalidation_1-logloss:0.060942\n",
            "[456]\tvalidation_0-logloss:0.021318\tvalidation_1-logloss:0.061006\n",
            "[457]\tvalidation_0-logloss:0.021314\tvalidation_1-logloss:0.061022\n",
            "[458]\tvalidation_0-logloss:0.021287\tvalidation_1-logloss:0.060989\n",
            "[459]\tvalidation_0-logloss:0.021278\tvalidation_1-logloss:0.061008\n",
            "[460]\tvalidation_0-logloss:0.02127\tvalidation_1-logloss:0.061002\n",
            "[461]\tvalidation_0-logloss:0.021272\tvalidation_1-logloss:0.061052\n",
            "[462]\tvalidation_0-logloss:0.021255\tvalidation_1-logloss:0.061047\n",
            "[463]\tvalidation_0-logloss:0.021261\tvalidation_1-logloss:0.061098\n",
            "[464]\tvalidation_0-logloss:0.021256\tvalidation_1-logloss:0.061088\n",
            "[465]\tvalidation_0-logloss:0.021249\tvalidation_1-logloss:0.06109\n",
            "[466]\tvalidation_0-logloss:0.021246\tvalidation_1-logloss:0.061104\n",
            "[467]\tvalidation_0-logloss:0.02124\tvalidation_1-logloss:0.061108\n",
            "[468]\tvalidation_0-logloss:0.021247\tvalidation_1-logloss:0.061153\n",
            "[469]\tvalidation_0-logloss:0.021245\tvalidation_1-logloss:0.061197\n",
            "[470]\tvalidation_0-logloss:0.021245\tvalidation_1-logloss:0.061198\n",
            "[471]\tvalidation_0-logloss:0.021244\tvalidation_1-logloss:0.061217\n",
            "[472]\tvalidation_0-logloss:0.021241\tvalidation_1-logloss:0.061225\n",
            "[473]\tvalidation_0-logloss:0.021233\tvalidation_1-logloss:0.061248\n",
            "[474]\tvalidation_0-logloss:0.021229\tvalidation_1-logloss:0.06125\n",
            "[475]\tvalidation_0-logloss:0.021236\tvalidation_1-logloss:0.061306\n",
            "[476]\tvalidation_0-logloss:0.021237\tvalidation_1-logloss:0.061323\n",
            "[477]\tvalidation_0-logloss:0.021231\tvalidation_1-logloss:0.061345\n",
            "[478]\tvalidation_0-logloss:0.021233\tvalidation_1-logloss:0.061357\n",
            "[479]\tvalidation_0-logloss:0.021235\tvalidation_1-logloss:0.061394\n",
            "[480]\tvalidation_0-logloss:0.021233\tvalidation_1-logloss:0.061422\n",
            "[481]\tvalidation_0-logloss:0.021223\tvalidation_1-logloss:0.061446\n",
            "[482]\tvalidation_0-logloss:0.021224\tvalidation_1-logloss:0.061489\n",
            "[483]\tvalidation_0-logloss:0.021217\tvalidation_1-logloss:0.061484\n",
            "[484]\tvalidation_0-logloss:0.021202\tvalidation_1-logloss:0.06149\n",
            "[485]\tvalidation_0-logloss:0.021188\tvalidation_1-logloss:0.061497\n",
            "[486]\tvalidation_0-logloss:0.021198\tvalidation_1-logloss:0.061584\n",
            "[487]\tvalidation_0-logloss:0.021204\tvalidation_1-logloss:0.061643\n",
            "[488]\tvalidation_0-logloss:0.021209\tvalidation_1-logloss:0.06167\n",
            "[489]\tvalidation_0-logloss:0.021208\tvalidation_1-logloss:0.061673\n",
            "[490]\tvalidation_0-logloss:0.021211\tvalidation_1-logloss:0.061698\n",
            "[491]\tvalidation_0-logloss:0.021214\tvalidation_1-logloss:0.061726\n",
            "[492]\tvalidation_0-logloss:0.021219\tvalidation_1-logloss:0.061773\n",
            "[493]\tvalidation_0-logloss:0.021224\tvalidation_1-logloss:0.061797\n",
            "[494]\tvalidation_0-logloss:0.0212\tvalidation_1-logloss:0.061763\n",
            "[495]\tvalidation_0-logloss:0.021197\tvalidation_1-logloss:0.061771\n",
            "[496]\tvalidation_0-logloss:0.021183\tvalidation_1-logloss:0.061763\n",
            "[497]\tvalidation_0-logloss:0.02118\tvalidation_1-logloss:0.061765\n",
            "[498]\tvalidation_0-logloss:0.02118\tvalidation_1-logloss:0.061788\n",
            "[499]\tvalidation_0-logloss:0.02118\tvalidation_1-logloss:0.061808\n",
            "[500]\tvalidation_0-logloss:0.021182\tvalidation_1-logloss:0.061832\n",
            "[501]\tvalidation_0-logloss:0.021185\tvalidation_1-logloss:0.061863\n",
            "[502]\tvalidation_0-logloss:0.021181\tvalidation_1-logloss:0.06187\n",
            "[503]\tvalidation_0-logloss:0.021163\tvalidation_1-logloss:0.061832\n",
            "[504]\tvalidation_0-logloss:0.021169\tvalidation_1-logloss:0.06187\n",
            "[505]\tvalidation_0-logloss:0.021167\tvalidation_1-logloss:0.061886\n",
            "[506]\tvalidation_0-logloss:0.021168\tvalidation_1-logloss:0.061905\n",
            "[507]\tvalidation_0-logloss:0.021168\tvalidation_1-logloss:0.061915\n",
            "[508]\tvalidation_0-logloss:0.02117\tvalidation_1-logloss:0.061932\n",
            "[509]\tvalidation_0-logloss:0.021164\tvalidation_1-logloss:0.06192\n",
            "[510]\tvalidation_0-logloss:0.021141\tvalidation_1-logloss:0.061879\n",
            "[511]\tvalidation_0-logloss:0.021138\tvalidation_1-logloss:0.061893\n",
            "[512]\tvalidation_0-logloss:0.021137\tvalidation_1-logloss:0.061905\n",
            "[513]\tvalidation_0-logloss:0.021139\tvalidation_1-logloss:0.061932\n",
            "[514]\tvalidation_0-logloss:0.021141\tvalidation_1-logloss:0.061952\n",
            "[515]\tvalidation_0-logloss:0.021135\tvalidation_1-logloss:0.061941\n",
            "[516]\tvalidation_0-logloss:0.021124\tvalidation_1-logloss:0.061937\n",
            "[517]\tvalidation_0-logloss:0.021097\tvalidation_1-logloss:0.061886\n",
            "[518]\tvalidation_0-logloss:0.021095\tvalidation_1-logloss:0.061889\n",
            "[519]\tvalidation_0-logloss:0.021087\tvalidation_1-logloss:0.061889\n",
            "[520]\tvalidation_0-logloss:0.021094\tvalidation_1-logloss:0.061924\n",
            "[521]\tvalidation_0-logloss:0.021095\tvalidation_1-logloss:0.061942\n",
            "[522]\tvalidation_0-logloss:0.021098\tvalidation_1-logloss:0.061964\n",
            "[523]\tvalidation_0-logloss:0.021097\tvalidation_1-logloss:0.061992\n",
            "[524]\tvalidation_0-logloss:0.021095\tvalidation_1-logloss:0.06199\n",
            "[525]\tvalidation_0-logloss:0.021098\tvalidation_1-logloss:0.062013\n",
            "[526]\tvalidation_0-logloss:0.021097\tvalidation_1-logloss:0.062032\n",
            "[527]\tvalidation_0-logloss:0.021076\tvalidation_1-logloss:0.062007\n",
            "[528]\tvalidation_0-logloss:0.021074\tvalidation_1-logloss:0.062023\n",
            "[529]\tvalidation_0-logloss:0.021068\tvalidation_1-logloss:0.062022\n",
            "[530]\tvalidation_0-logloss:0.021062\tvalidation_1-logloss:0.062024\n",
            "[531]\tvalidation_0-logloss:0.021061\tvalidation_1-logloss:0.062034\n",
            "[532]\tvalidation_0-logloss:0.021064\tvalidation_1-logloss:0.062053\n",
            "[533]\tvalidation_0-logloss:0.021058\tvalidation_1-logloss:0.062046\n",
            "[534]\tvalidation_0-logloss:0.02105\tvalidation_1-logloss:0.062041\n",
            "[535]\tvalidation_0-logloss:0.021038\tvalidation_1-logloss:0.062026\n",
            "[536]\tvalidation_0-logloss:0.021035\tvalidation_1-logloss:0.062034\n",
            "[537]\tvalidation_0-logloss:0.021032\tvalidation_1-logloss:0.062043\n",
            "[538]\tvalidation_0-logloss:0.021026\tvalidation_1-logloss:0.062037\n",
            "[539]\tvalidation_0-logloss:0.021026\tvalidation_1-logloss:0.062047\n",
            "[540]\tvalidation_0-logloss:0.021024\tvalidation_1-logloss:0.062043\n",
            "[541]\tvalidation_0-logloss:0.021017\tvalidation_1-logloss:0.062046\n",
            "[542]\tvalidation_0-logloss:0.021016\tvalidation_1-logloss:0.062072\n",
            "[543]\tvalidation_0-logloss:0.021003\tvalidation_1-logloss:0.062058\n",
            "[544]\tvalidation_0-logloss:0.021\tvalidation_1-logloss:0.062073\n",
            "[545]\tvalidation_0-logloss:0.020998\tvalidation_1-logloss:0.062075\n",
            "[546]\tvalidation_0-logloss:0.02098\tvalidation_1-logloss:0.062053\n",
            "[547]\tvalidation_0-logloss:0.020983\tvalidation_1-logloss:0.062073\n",
            "[548]\tvalidation_0-logloss:0.020991\tvalidation_1-logloss:0.062117\n",
            "[549]\tvalidation_0-logloss:0.020994\tvalidation_1-logloss:0.062157\n",
            "[550]\tvalidation_0-logloss:0.021001\tvalidation_1-logloss:0.062189\n",
            "[551]\tvalidation_0-logloss:0.020979\tvalidation_1-logloss:0.062153\n",
            "[552]\tvalidation_0-logloss:0.020984\tvalidation_1-logloss:0.062196\n",
            "[553]\tvalidation_0-logloss:0.02098\tvalidation_1-logloss:0.062218\n",
            "[554]\tvalidation_0-logloss:0.020979\tvalidation_1-logloss:0.062237\n",
            "[555]\tvalidation_0-logloss:0.020982\tvalidation_1-logloss:0.062259\n",
            "[556]\tvalidation_0-logloss:0.020987\tvalidation_1-logloss:0.062289\n",
            "[557]\tvalidation_0-logloss:0.020979\tvalidation_1-logloss:0.06228\n",
            "[558]\tvalidation_0-logloss:0.020979\tvalidation_1-logloss:0.062292\n",
            "[559]\tvalidation_0-logloss:0.02098\tvalidation_1-logloss:0.06231\n",
            "[560]\tvalidation_0-logloss:0.020977\tvalidation_1-logloss:0.062313\n",
            "[561]\tvalidation_0-logloss:0.02097\tvalidation_1-logloss:0.062308\n",
            "[562]\tvalidation_0-logloss:0.02097\tvalidation_1-logloss:0.062346\n",
            "[563]\tvalidation_0-logloss:0.02097\tvalidation_1-logloss:0.062394\n",
            "[564]\tvalidation_0-logloss:0.020971\tvalidation_1-logloss:0.062416\n",
            "[565]\tvalidation_0-logloss:0.020972\tvalidation_1-logloss:0.06244\n",
            "[566]\tvalidation_0-logloss:0.020971\tvalidation_1-logloss:0.062449\n",
            "[567]\tvalidation_0-logloss:0.02097\tvalidation_1-logloss:0.062457\n",
            "[568]\tvalidation_0-logloss:0.020966\tvalidation_1-logloss:0.062455\n",
            "[569]\tvalidation_0-logloss:0.020966\tvalidation_1-logloss:0.062479\n",
            "[570]\tvalidation_0-logloss:0.020965\tvalidation_1-logloss:0.062482\n",
            "[571]\tvalidation_0-logloss:0.020979\tvalidation_1-logloss:0.062554\n",
            "[572]\tvalidation_0-logloss:0.020978\tvalidation_1-logloss:0.062569\n",
            "[573]\tvalidation_0-logloss:0.020981\tvalidation_1-logloss:0.062586\n",
            "[574]\tvalidation_0-logloss:0.02098\tvalidation_1-logloss:0.062608\n",
            "[575]\tvalidation_0-logloss:0.020985\tvalidation_1-logloss:0.062641\n",
            "[576]\tvalidation_0-logloss:0.020987\tvalidation_1-logloss:0.062654\n",
            "[577]\tvalidation_0-logloss:0.020986\tvalidation_1-logloss:0.062677\n",
            "[578]\tvalidation_0-logloss:0.020986\tvalidation_1-logloss:0.062692\n",
            "[579]\tvalidation_0-logloss:0.020993\tvalidation_1-logloss:0.062751\n",
            "[580]\tvalidation_0-logloss:0.020996\tvalidation_1-logloss:0.062775\n",
            "[581]\tvalidation_0-logloss:0.020999\tvalidation_1-logloss:0.062796\n",
            "[582]\tvalidation_0-logloss:0.020992\tvalidation_1-logloss:0.062798\n",
            "[583]\tvalidation_0-logloss:0.020988\tvalidation_1-logloss:0.062809\n",
            "[584]\tvalidation_0-logloss:0.020985\tvalidation_1-logloss:0.062808\n",
            "[585]\tvalidation_0-logloss:0.020962\tvalidation_1-logloss:0.062764\n",
            "[586]\tvalidation_0-logloss:0.020955\tvalidation_1-logloss:0.062768\n",
            "[587]\tvalidation_0-logloss:0.020957\tvalidation_1-logloss:0.062791\n",
            "[588]\tvalidation_0-logloss:0.020959\tvalidation_1-logloss:0.062817\n",
            "[589]\tvalidation_0-logloss:0.020949\tvalidation_1-logloss:0.062804\n",
            "[590]\tvalidation_0-logloss:0.020963\tvalidation_1-logloss:0.062867\n",
            "[591]\tvalidation_0-logloss:0.02096\tvalidation_1-logloss:0.062866\n",
            "[592]\tvalidation_0-logloss:0.020956\tvalidation_1-logloss:0.062869\n",
            "[593]\tvalidation_0-logloss:0.020958\tvalidation_1-logloss:0.062885\n",
            "[594]\tvalidation_0-logloss:0.020949\tvalidation_1-logloss:0.062869\n",
            "[595]\tvalidation_0-logloss:0.020943\tvalidation_1-logloss:0.062861\n",
            "[596]\tvalidation_0-logloss:0.020956\tvalidation_1-logloss:0.062936\n",
            "[597]\tvalidation_0-logloss:0.02095\tvalidation_1-logloss:0.062937\n",
            "[598]\tvalidation_0-logloss:0.020948\tvalidation_1-logloss:0.062949\n",
            "[599]\tvalidation_0-logloss:0.020944\tvalidation_1-logloss:0.062952\n",
            "[600]\tvalidation_0-logloss:0.020935\tvalidation_1-logloss:0.06294\n",
            "[601]\tvalidation_0-logloss:0.020943\tvalidation_1-logloss:0.062989\n",
            "[602]\tvalidation_0-logloss:0.020918\tvalidation_1-logloss:0.062931\n",
            "[603]\tvalidation_0-logloss:0.020925\tvalidation_1-logloss:0.062974\n",
            "[604]\tvalidation_0-logloss:0.020926\tvalidation_1-logloss:0.06299\n",
            "[605]\tvalidation_0-logloss:0.020923\tvalidation_1-logloss:0.062994\n",
            "[606]\tvalidation_0-logloss:0.02092\tvalidation_1-logloss:0.063017\n",
            "[607]\tvalidation_0-logloss:0.020921\tvalidation_1-logloss:0.063036\n",
            "[608]\tvalidation_0-logloss:0.020909\tvalidation_1-logloss:0.063014\n",
            "[609]\tvalidation_0-logloss:0.020914\tvalidation_1-logloss:0.063045\n",
            "[610]\tvalidation_0-logloss:0.020913\tvalidation_1-logloss:0.063045\n",
            "[611]\tvalidation_0-logloss:0.020917\tvalidation_1-logloss:0.063069\n",
            "[612]\tvalidation_0-logloss:0.020912\tvalidation_1-logloss:0.063066\n",
            "[613]\tvalidation_0-logloss:0.020914\tvalidation_1-logloss:0.063074\n",
            "[614]\tvalidation_0-logloss:0.020914\tvalidation_1-logloss:0.06308\n",
            "[615]\tvalidation_0-logloss:0.020914\tvalidation_1-logloss:0.063082\n",
            "[616]\tvalidation_0-logloss:0.020912\tvalidation_1-logloss:0.06308\n",
            "[617]\tvalidation_0-logloss:0.02091\tvalidation_1-logloss:0.063078\n",
            "[618]\tvalidation_0-logloss:0.02089\tvalidation_1-logloss:0.063044\n",
            "[619]\tvalidation_0-logloss:0.020894\tvalidation_1-logloss:0.06306\n",
            "[620]\tvalidation_0-logloss:0.020891\tvalidation_1-logloss:0.063057\n",
            "[621]\tvalidation_0-logloss:0.020894\tvalidation_1-logloss:0.063081\n",
            "[622]\tvalidation_0-logloss:0.020896\tvalidation_1-logloss:0.063102\n",
            "[623]\tvalidation_0-logloss:0.020895\tvalidation_1-logloss:0.063111\n",
            "[624]\tvalidation_0-logloss:0.020882\tvalidation_1-logloss:0.063099\n",
            "[625]\tvalidation_0-logloss:0.020881\tvalidation_1-logloss:0.063098\n",
            "[626]\tvalidation_0-logloss:0.020885\tvalidation_1-logloss:0.063123\n",
            "[627]\tvalidation_0-logloss:0.020887\tvalidation_1-logloss:0.06314\n",
            "[628]\tvalidation_0-logloss:0.020891\tvalidation_1-logloss:0.063158\n",
            "[629]\tvalidation_0-logloss:0.020893\tvalidation_1-logloss:0.063171\n",
            "[630]\tvalidation_0-logloss:0.020893\tvalidation_1-logloss:0.063192\n",
            "[631]\tvalidation_0-logloss:0.020887\tvalidation_1-logloss:0.063177\n",
            "[632]\tvalidation_0-logloss:0.020887\tvalidation_1-logloss:0.063193\n",
            "[633]\tvalidation_0-logloss:0.020893\tvalidation_1-logloss:0.063221\n",
            "[634]\tvalidation_0-logloss:0.020893\tvalidation_1-logloss:0.063229\n",
            "[635]\tvalidation_0-logloss:0.020892\tvalidation_1-logloss:0.063234\n",
            "[636]\tvalidation_0-logloss:0.020891\tvalidation_1-logloss:0.063242\n",
            "[637]\tvalidation_0-logloss:0.02089\tvalidation_1-logloss:0.063246\n",
            "[638]\tvalidation_0-logloss:0.020891\tvalidation_1-logloss:0.063252\n",
            "[639]\tvalidation_0-logloss:0.020884\tvalidation_1-logloss:0.06324\n",
            "[640]\tvalidation_0-logloss:0.020878\tvalidation_1-logloss:0.063226\n",
            "[641]\tvalidation_0-logloss:0.020874\tvalidation_1-logloss:0.063222\n",
            "[642]\tvalidation_0-logloss:0.020882\tvalidation_1-logloss:0.06326\n",
            "[643]\tvalidation_0-logloss:0.020874\tvalidation_1-logloss:0.063255\n",
            "[644]\tvalidation_0-logloss:0.02088\tvalidation_1-logloss:0.063282\n",
            "[645]\tvalidation_0-logloss:0.020882\tvalidation_1-logloss:0.063313\n",
            "[646]\tvalidation_0-logloss:0.020882\tvalidation_1-logloss:0.063322\n",
            "[647]\tvalidation_0-logloss:0.020887\tvalidation_1-logloss:0.063355\n",
            "[648]\tvalidation_0-logloss:0.020888\tvalidation_1-logloss:0.063371\n",
            "[649]\tvalidation_0-logloss:0.020884\tvalidation_1-logloss:0.06337\n",
            "[650]\tvalidation_0-logloss:0.020874\tvalidation_1-logloss:0.063349\n",
            "[651]\tvalidation_0-logloss:0.020874\tvalidation_1-logloss:0.063364\n",
            "[652]\tvalidation_0-logloss:0.020881\tvalidation_1-logloss:0.063399\n",
            "[653]\tvalidation_0-logloss:0.020881\tvalidation_1-logloss:0.063417\n",
            "[654]\tvalidation_0-logloss:0.02088\tvalidation_1-logloss:0.063425\n",
            "[655]\tvalidation_0-logloss:0.020875\tvalidation_1-logloss:0.063428\n",
            "[656]\tvalidation_0-logloss:0.020878\tvalidation_1-logloss:0.063445\n",
            "[657]\tvalidation_0-logloss:0.020885\tvalidation_1-logloss:0.063468\n",
            "[658]\tvalidation_0-logloss:0.020896\tvalidation_1-logloss:0.063514\n",
            "[659]\tvalidation_0-logloss:0.020894\tvalidation_1-logloss:0.063514\n",
            "[660]\tvalidation_0-logloss:0.020895\tvalidation_1-logloss:0.063525\n",
            "[661]\tvalidation_0-logloss:0.020901\tvalidation_1-logloss:0.063558\n",
            "[662]\tvalidation_0-logloss:0.020905\tvalidation_1-logloss:0.063574\n",
            "[663]\tvalidation_0-logloss:0.020902\tvalidation_1-logloss:0.063575\n",
            "[664]\tvalidation_0-logloss:0.020904\tvalidation_1-logloss:0.063588\n",
            "[665]\tvalidation_0-logloss:0.020901\tvalidation_1-logloss:0.063586\n",
            "[666]\tvalidation_0-logloss:0.020907\tvalidation_1-logloss:0.063618\n",
            "[667]\tvalidation_0-logloss:0.020899\tvalidation_1-logloss:0.063606\n",
            "[668]\tvalidation_0-logloss:0.020898\tvalidation_1-logloss:0.063615\n",
            "[669]\tvalidation_0-logloss:0.020897\tvalidation_1-logloss:0.063618\n",
            "[670]\tvalidation_0-logloss:0.020896\tvalidation_1-logloss:0.063623\n",
            "[671]\tvalidation_0-logloss:0.020898\tvalidation_1-logloss:0.063649\n",
            "[672]\tvalidation_0-logloss:0.020895\tvalidation_1-logloss:0.063647\n",
            "[673]\tvalidation_0-logloss:0.020888\tvalidation_1-logloss:0.06365\n",
            "[674]\tvalidation_0-logloss:0.020884\tvalidation_1-logloss:0.063645\n",
            "[675]\tvalidation_0-logloss:0.020883\tvalidation_1-logloss:0.063652\n",
            "[676]\tvalidation_0-logloss:0.020885\tvalidation_1-logloss:0.06366\n",
            "[677]\tvalidation_0-logloss:0.020887\tvalidation_1-logloss:0.063679\n",
            "[678]\tvalidation_0-logloss:0.020882\tvalidation_1-logloss:0.063677\n",
            "[679]\tvalidation_0-logloss:0.020879\tvalidation_1-logloss:0.06367\n",
            "[680]\tvalidation_0-logloss:0.020876\tvalidation_1-logloss:0.063665\n",
            "[681]\tvalidation_0-logloss:0.02088\tvalidation_1-logloss:0.063687\n",
            "[682]\tvalidation_0-logloss:0.020884\tvalidation_1-logloss:0.063713\n",
            "[683]\tvalidation_0-logloss:0.020894\tvalidation_1-logloss:0.063766\n",
            "[684]\tvalidation_0-logloss:0.020878\tvalidation_1-logloss:0.063731\n",
            "[685]\tvalidation_0-logloss:0.020852\tvalidation_1-logloss:0.063665\n",
            "[686]\tvalidation_0-logloss:0.020857\tvalidation_1-logloss:0.0637\n",
            "[687]\tvalidation_0-logloss:0.020853\tvalidation_1-logloss:0.063696\n",
            "[688]\tvalidation_0-logloss:0.020854\tvalidation_1-logloss:0.06372\n",
            "[689]\tvalidation_0-logloss:0.020858\tvalidation_1-logloss:0.063742\n",
            "[690]\tvalidation_0-logloss:0.020858\tvalidation_1-logloss:0.063745\n",
            "[691]\tvalidation_0-logloss:0.020858\tvalidation_1-logloss:0.063756\n",
            "[692]\tvalidation_0-logloss:0.020861\tvalidation_1-logloss:0.063771\n",
            "[693]\tvalidation_0-logloss:0.020862\tvalidation_1-logloss:0.063784\n",
            "[694]\tvalidation_0-logloss:0.020859\tvalidation_1-logloss:0.06379\n",
            "[695]\tvalidation_0-logloss:0.020861\tvalidation_1-logloss:0.063799\n",
            "[696]\tvalidation_0-logloss:0.020863\tvalidation_1-logloss:0.063811\n",
            "[697]\tvalidation_0-logloss:0.02086\tvalidation_1-logloss:0.063808\n",
            "[698]\tvalidation_0-logloss:0.020859\tvalidation_1-logloss:0.063824\n",
            "[699]\tvalidation_0-logloss:0.02086\tvalidation_1-logloss:0.063839\n",
            "[700]\tvalidation_0-logloss:0.020859\tvalidation_1-logloss:0.06384\n",
            "[701]\tvalidation_0-logloss:0.02086\tvalidation_1-logloss:0.063854\n",
            "[702]\tvalidation_0-logloss:0.020845\tvalidation_1-logloss:0.063827\n",
            "[703]\tvalidation_0-logloss:0.020844\tvalidation_1-logloss:0.063826\n",
            "[704]\tvalidation_0-logloss:0.020854\tvalidation_1-logloss:0.06387\n",
            "[705]\tvalidation_0-logloss:0.020853\tvalidation_1-logloss:0.063881\n",
            "[706]\tvalidation_0-logloss:0.020855\tvalidation_1-logloss:0.063895\n",
            "[707]\tvalidation_0-logloss:0.020856\tvalidation_1-logloss:0.06391\n",
            "[708]\tvalidation_0-logloss:0.020863\tvalidation_1-logloss:0.063938\n",
            "[709]\tvalidation_0-logloss:0.020849\tvalidation_1-logloss:0.063911\n",
            "[710]\tvalidation_0-logloss:0.020874\tvalidation_1-logloss:0.064017\n",
            "[711]\tvalidation_0-logloss:0.020877\tvalidation_1-logloss:0.064037\n",
            "[712]\tvalidation_0-logloss:0.020871\tvalidation_1-logloss:0.064028\n",
            "[713]\tvalidation_0-logloss:0.020877\tvalidation_1-logloss:0.064062\n",
            "[714]\tvalidation_0-logloss:0.020874\tvalidation_1-logloss:0.064059\n",
            "[715]\tvalidation_0-logloss:0.020874\tvalidation_1-logloss:0.064074\n",
            "[716]\tvalidation_0-logloss:0.020872\tvalidation_1-logloss:0.064072\n",
            "[717]\tvalidation_0-logloss:0.020877\tvalidation_1-logloss:0.064094\n",
            "[718]\tvalidation_0-logloss:0.020871\tvalidation_1-logloss:0.064083\n",
            "[719]\tvalidation_0-logloss:0.020872\tvalidation_1-logloss:0.064089\n",
            "[720]\tvalidation_0-logloss:0.020878\tvalidation_1-logloss:0.064126\n",
            "[721]\tvalidation_0-logloss:0.020879\tvalidation_1-logloss:0.064138\n",
            "[722]\tvalidation_0-logloss:0.020884\tvalidation_1-logloss:0.064162\n",
            "[723]\tvalidation_0-logloss:0.020886\tvalidation_1-logloss:0.064175\n",
            "[724]\tvalidation_0-logloss:0.020881\tvalidation_1-logloss:0.064167\n",
            "[725]\tvalidation_0-logloss:0.020883\tvalidation_1-logloss:0.064184\n",
            "[726]\tvalidation_0-logloss:0.020893\tvalidation_1-logloss:0.06423\n",
            "[727]\tvalidation_0-logloss:0.020891\tvalidation_1-logloss:0.064241\n",
            "[728]\tvalidation_0-logloss:0.020894\tvalidation_1-logloss:0.06427\n",
            "[729]\tvalidation_0-logloss:0.020891\tvalidation_1-logloss:0.064272\n",
            "[730]\tvalidation_0-logloss:0.020892\tvalidation_1-logloss:0.064281\n",
            "[731]\tvalidation_0-logloss:0.020886\tvalidation_1-logloss:0.064267\n",
            "[732]\tvalidation_0-logloss:0.020889\tvalidation_1-logloss:0.064287\n",
            "[733]\tvalidation_0-logloss:0.020897\tvalidation_1-logloss:0.064321\n",
            "[734]\tvalidation_0-logloss:0.02089\tvalidation_1-logloss:0.064307\n",
            "[735]\tvalidation_0-logloss:0.020892\tvalidation_1-logloss:0.064329\n",
            "[736]\tvalidation_0-logloss:0.020888\tvalidation_1-logloss:0.064335\n",
            "[737]\tvalidation_0-logloss:0.020889\tvalidation_1-logloss:0.064346\n",
            "[738]\tvalidation_0-logloss:0.020893\tvalidation_1-logloss:0.064362\n",
            "[739]\tvalidation_0-logloss:0.020885\tvalidation_1-logloss:0.064346\n",
            "[740]\tvalidation_0-logloss:0.020885\tvalidation_1-logloss:0.064358\n",
            "[741]\tvalidation_0-logloss:0.020883\tvalidation_1-logloss:0.064359\n",
            "[742]\tvalidation_0-logloss:0.020885\tvalidation_1-logloss:0.064376\n",
            "[743]\tvalidation_0-logloss:0.020882\tvalidation_1-logloss:0.064375\n",
            "[744]\tvalidation_0-logloss:0.020885\tvalidation_1-logloss:0.064389\n",
            "[745]\tvalidation_0-logloss:0.020886\tvalidation_1-logloss:0.064405\n",
            "[746]\tvalidation_0-logloss:0.020889\tvalidation_1-logloss:0.064427\n",
            "[747]\tvalidation_0-logloss:0.020892\tvalidation_1-logloss:0.064447\n",
            "[748]\tvalidation_0-logloss:0.020898\tvalidation_1-logloss:0.064475\n",
            "[749]\tvalidation_0-logloss:0.020901\tvalidation_1-logloss:0.064488\n",
            "[750]\tvalidation_0-logloss:0.0209\tvalidation_1-logloss:0.064491\n",
            "[751]\tvalidation_0-logloss:0.020911\tvalidation_1-logloss:0.064538\n",
            "[752]\tvalidation_0-logloss:0.020909\tvalidation_1-logloss:0.064549\n",
            "[753]\tvalidation_0-logloss:0.020911\tvalidation_1-logloss:0.064562\n",
            "[754]\tvalidation_0-logloss:0.020921\tvalidation_1-logloss:0.064609\n",
            "[755]\tvalidation_0-logloss:0.020916\tvalidation_1-logloss:0.064599\n",
            "[756]\tvalidation_0-logloss:0.020915\tvalidation_1-logloss:0.064608\n",
            "[757]\tvalidation_0-logloss:0.020911\tvalidation_1-logloss:0.064605\n",
            "[758]\tvalidation_0-logloss:0.020915\tvalidation_1-logloss:0.064622\n",
            "[759]\tvalidation_0-logloss:0.020916\tvalidation_1-logloss:0.06463\n",
            "[760]\tvalidation_0-logloss:0.020918\tvalidation_1-logloss:0.064641\n",
            "[761]\tvalidation_0-logloss:0.020913\tvalidation_1-logloss:0.064637\n",
            "[762]\tvalidation_0-logloss:0.020913\tvalidation_1-logloss:0.064657\n",
            "[763]\tvalidation_0-logloss:0.020921\tvalidation_1-logloss:0.064686\n",
            "[764]\tvalidation_0-logloss:0.020918\tvalidation_1-logloss:0.064689\n",
            "[765]\tvalidation_0-logloss:0.020908\tvalidation_1-logloss:0.064669\n",
            "[766]\tvalidation_0-logloss:0.020904\tvalidation_1-logloss:0.06466\n",
            "[767]\tvalidation_0-logloss:0.020896\tvalidation_1-logloss:0.06464\n",
            "[768]\tvalidation_0-logloss:0.020896\tvalidation_1-logloss:0.064646\n",
            "[769]\tvalidation_0-logloss:0.020895\tvalidation_1-logloss:0.064662\n",
            "[770]\tvalidation_0-logloss:0.020895\tvalidation_1-logloss:0.064665\n",
            "[771]\tvalidation_0-logloss:0.020902\tvalidation_1-logloss:0.064698\n",
            "[772]\tvalidation_0-logloss:0.020905\tvalidation_1-logloss:0.064716\n",
            "[773]\tvalidation_0-logloss:0.020903\tvalidation_1-logloss:0.064714\n",
            "[774]\tvalidation_0-logloss:0.020898\tvalidation_1-logloss:0.064711\n",
            "[775]\tvalidation_0-logloss:0.020897\tvalidation_1-logloss:0.064715\n",
            "[776]\tvalidation_0-logloss:0.020899\tvalidation_1-logloss:0.064723\n",
            "[777]\tvalidation_0-logloss:0.020895\tvalidation_1-logloss:0.06472\n",
            "[778]\tvalidation_0-logloss:0.020897\tvalidation_1-logloss:0.06473\n",
            "[779]\tvalidation_0-logloss:0.020894\tvalidation_1-logloss:0.064733\n",
            "[780]\tvalidation_0-logloss:0.0209\tvalidation_1-logloss:0.064757\n",
            "[781]\tvalidation_0-logloss:0.020899\tvalidation_1-logloss:0.064761\n",
            "[782]\tvalidation_0-logloss:0.020899\tvalidation_1-logloss:0.064774\n",
            "[783]\tvalidation_0-logloss:0.02091\tvalidation_1-logloss:0.064821\n",
            "[784]\tvalidation_0-logloss:0.020915\tvalidation_1-logloss:0.064844\n",
            "[785]\tvalidation_0-logloss:0.02092\tvalidation_1-logloss:0.064866\n",
            "[786]\tvalidation_0-logloss:0.02092\tvalidation_1-logloss:0.064873\n",
            "[787]\tvalidation_0-logloss:0.020911\tvalidation_1-logloss:0.064859\n",
            "[788]\tvalidation_0-logloss:0.020909\tvalidation_1-logloss:0.064861\n",
            "[789]\tvalidation_0-logloss:0.020908\tvalidation_1-logloss:0.064868\n",
            "[790]\tvalidation_0-logloss:0.020907\tvalidation_1-logloss:0.064867\n",
            "[791]\tvalidation_0-logloss:0.020907\tvalidation_1-logloss:0.064874\n",
            "[792]\tvalidation_0-logloss:0.020913\tvalidation_1-logloss:0.064899\n",
            "[793]\tvalidation_0-logloss:0.020901\tvalidation_1-logloss:0.064875\n",
            "[794]\tvalidation_0-logloss:0.020904\tvalidation_1-logloss:0.064888\n",
            "[795]\tvalidation_0-logloss:0.020911\tvalidation_1-logloss:0.064924\n",
            "[796]\tvalidation_0-logloss:0.020914\tvalidation_1-logloss:0.064946\n",
            "[797]\tvalidation_0-logloss:0.020909\tvalidation_1-logloss:0.064937\n",
            "[798]\tvalidation_0-logloss:0.020906\tvalidation_1-logloss:0.064938\n",
            "[799]\tvalidation_0-logloss:0.020906\tvalidation_1-logloss:0.064949\n",
            "[800]\tvalidation_0-logloss:0.020912\tvalidation_1-logloss:0.064974\n",
            "[801]\tvalidation_0-logloss:0.020914\tvalidation_1-logloss:0.064988\n",
            "[802]\tvalidation_0-logloss:0.020916\tvalidation_1-logloss:0.065004\n",
            "[803]\tvalidation_0-logloss:0.020911\tvalidation_1-logloss:0.064992\n",
            "[804]\tvalidation_0-logloss:0.020915\tvalidation_1-logloss:0.065021\n",
            "[805]\tvalidation_0-logloss:0.020918\tvalidation_1-logloss:0.065033\n",
            "[806]\tvalidation_0-logloss:0.020921\tvalidation_1-logloss:0.065046\n",
            "[807]\tvalidation_0-logloss:0.020925\tvalidation_1-logloss:0.065062\n",
            "[808]\tvalidation_0-logloss:0.020929\tvalidation_1-logloss:0.065084\n",
            "[809]\tvalidation_0-logloss:0.020926\tvalidation_1-logloss:0.065077\n",
            "[810]\tvalidation_0-logloss:0.020926\tvalidation_1-logloss:0.065079\n",
            "[811]\tvalidation_0-logloss:0.020924\tvalidation_1-logloss:0.06508\n",
            "[812]\tvalidation_0-logloss:0.020912\tvalidation_1-logloss:0.065049\n",
            "[813]\tvalidation_0-logloss:0.020914\tvalidation_1-logloss:0.06506\n",
            "[814]\tvalidation_0-logloss:0.020928\tvalidation_1-logloss:0.065114\n",
            "[815]\tvalidation_0-logloss:0.020924\tvalidation_1-logloss:0.065111\n",
            "[816]\tvalidation_0-logloss:0.020921\tvalidation_1-logloss:0.065107\n",
            "[817]\tvalidation_0-logloss:0.020923\tvalidation_1-logloss:0.065116\n",
            "[818]\tvalidation_0-logloss:0.020921\tvalidation_1-logloss:0.065114\n",
            "[819]\tvalidation_0-logloss:0.020924\tvalidation_1-logloss:0.065139\n",
            "[820]\tvalidation_0-logloss:0.020919\tvalidation_1-logloss:0.065127\n",
            "[821]\tvalidation_0-logloss:0.020918\tvalidation_1-logloss:0.065127\n",
            "[822]\tvalidation_0-logloss:0.020916\tvalidation_1-logloss:0.06513\n",
            "[823]\tvalidation_0-logloss:0.020918\tvalidation_1-logloss:0.065142\n",
            "[824]\tvalidation_0-logloss:0.020915\tvalidation_1-logloss:0.065137\n",
            "[825]\tvalidation_0-logloss:0.020921\tvalidation_1-logloss:0.065163\n",
            "[826]\tvalidation_0-logloss:0.020923\tvalidation_1-logloss:0.065175\n",
            "[827]\tvalidation_0-logloss:0.020921\tvalidation_1-logloss:0.065171\n",
            "[828]\tvalidation_0-logloss:0.020924\tvalidation_1-logloss:0.065192\n",
            "[829]\tvalidation_0-logloss:0.020928\tvalidation_1-logloss:0.06521\n",
            "[830]\tvalidation_0-logloss:0.020929\tvalidation_1-logloss:0.065228\n",
            "[831]\tvalidation_0-logloss:0.020934\tvalidation_1-logloss:0.065248\n",
            "[832]\tvalidation_0-logloss:0.020932\tvalidation_1-logloss:0.065246\n",
            "[833]\tvalidation_0-logloss:0.020929\tvalidation_1-logloss:0.065241\n",
            "[834]\tvalidation_0-logloss:0.020926\tvalidation_1-logloss:0.065241\n",
            "[835]\tvalidation_0-logloss:0.020929\tvalidation_1-logloss:0.065259\n",
            "[836]\tvalidation_0-logloss:0.020929\tvalidation_1-logloss:0.065268\n",
            "[837]\tvalidation_0-logloss:0.020935\tvalidation_1-logloss:0.0653\n",
            "[838]\tvalidation_0-logloss:0.020938\tvalidation_1-logloss:0.065322\n",
            "[839]\tvalidation_0-logloss:0.020946\tvalidation_1-logloss:0.065355\n",
            "[840]\tvalidation_0-logloss:0.020944\tvalidation_1-logloss:0.065362\n",
            "[841]\tvalidation_0-logloss:0.020947\tvalidation_1-logloss:0.065382\n",
            "[842]\tvalidation_0-logloss:0.020946\tvalidation_1-logloss:0.065384\n",
            "[843]\tvalidation_0-logloss:0.020948\tvalidation_1-logloss:0.065395\n",
            "[844]\tvalidation_0-logloss:0.020952\tvalidation_1-logloss:0.065414\n",
            "[845]\tvalidation_0-logloss:0.020954\tvalidation_1-logloss:0.065428\n",
            "[846]\tvalidation_0-logloss:0.020961\tvalidation_1-logloss:0.065458\n",
            "[847]\tvalidation_0-logloss:0.020959\tvalidation_1-logloss:0.06546\n",
            "[848]\tvalidation_0-logloss:0.020957\tvalidation_1-logloss:0.06546\n",
            "[849]\tvalidation_0-logloss:0.020961\tvalidation_1-logloss:0.065481\n",
            "[850]\tvalidation_0-logloss:0.02096\tvalidation_1-logloss:0.065488\n",
            "[851]\tvalidation_0-logloss:0.020973\tvalidation_1-logloss:0.06554\n",
            "[852]\tvalidation_0-logloss:0.020973\tvalidation_1-logloss:0.065544\n",
            "[853]\tvalidation_0-logloss:0.020968\tvalidation_1-logloss:0.065532\n",
            "[854]\tvalidation_0-logloss:0.020968\tvalidation_1-logloss:0.065535\n",
            "[855]\tvalidation_0-logloss:0.020969\tvalidation_1-logloss:0.065549\n",
            "[856]\tvalidation_0-logloss:0.020972\tvalidation_1-logloss:0.065561\n",
            "[857]\tvalidation_0-logloss:0.020972\tvalidation_1-logloss:0.065563\n",
            "[858]\tvalidation_0-logloss:0.020969\tvalidation_1-logloss:0.065557\n",
            "[859]\tvalidation_0-logloss:0.02097\tvalidation_1-logloss:0.06557\n",
            "[860]\tvalidation_0-logloss:0.020973\tvalidation_1-logloss:0.065585\n",
            "[861]\tvalidation_0-logloss:0.020966\tvalidation_1-logloss:0.06557\n",
            "[862]\tvalidation_0-logloss:0.020961\tvalidation_1-logloss:0.065566\n",
            "[863]\tvalidation_0-logloss:0.020961\tvalidation_1-logloss:0.065571\n",
            "[864]\tvalidation_0-logloss:0.020961\tvalidation_1-logloss:0.065579\n",
            "[865]\tvalidation_0-logloss:0.020964\tvalidation_1-logloss:0.065596\n",
            "[866]\tvalidation_0-logloss:0.020964\tvalidation_1-logloss:0.065603\n",
            "[867]\tvalidation_0-logloss:0.020969\tvalidation_1-logloss:0.06563\n",
            "[868]\tvalidation_0-logloss:0.020969\tvalidation_1-logloss:0.065633\n",
            "[869]\tvalidation_0-logloss:0.020968\tvalidation_1-logloss:0.065635\n",
            "[870]\tvalidation_0-logloss:0.020969\tvalidation_1-logloss:0.065642\n",
            "[871]\tvalidation_0-logloss:0.020968\tvalidation_1-logloss:0.065648\n",
            "[872]\tvalidation_0-logloss:0.020971\tvalidation_1-logloss:0.065659\n",
            "[873]\tvalidation_0-logloss:0.020976\tvalidation_1-logloss:0.065685\n",
            "[874]\tvalidation_0-logloss:0.020969\tvalidation_1-logloss:0.065669\n",
            "[875]\tvalidation_0-logloss:0.020969\tvalidation_1-logloss:0.065674\n",
            "[876]\tvalidation_0-logloss:0.020972\tvalidation_1-logloss:0.065691\n",
            "[877]\tvalidation_0-logloss:0.020973\tvalidation_1-logloss:0.065699\n",
            "[878]\tvalidation_0-logloss:0.020979\tvalidation_1-logloss:0.065723\n",
            "[879]\tvalidation_0-logloss:0.020983\tvalidation_1-logloss:0.065743\n",
            "[880]\tvalidation_0-logloss:0.020984\tvalidation_1-logloss:0.065756\n",
            "[881]\tvalidation_0-logloss:0.020978\tvalidation_1-logloss:0.06575\n",
            "[882]\tvalidation_0-logloss:0.020983\tvalidation_1-logloss:0.065777\n",
            "[883]\tvalidation_0-logloss:0.020988\tvalidation_1-logloss:0.065794\n",
            "[884]\tvalidation_0-logloss:0.020984\tvalidation_1-logloss:0.06579\n",
            "[885]\tvalidation_0-logloss:0.020986\tvalidation_1-logloss:0.065803\n",
            "[886]\tvalidation_0-logloss:0.020979\tvalidation_1-logloss:0.065788\n",
            "[887]\tvalidation_0-logloss:0.020979\tvalidation_1-logloss:0.065793\n",
            "[888]\tvalidation_0-logloss:0.020985\tvalidation_1-logloss:0.06582\n",
            "[889]\tvalidation_0-logloss:0.020991\tvalidation_1-logloss:0.065845\n",
            "[890]\tvalidation_0-logloss:0.020993\tvalidation_1-logloss:0.065859\n",
            "[891]\tvalidation_0-logloss:0.02099\tvalidation_1-logloss:0.065853\n",
            "[892]\tvalidation_0-logloss:0.020996\tvalidation_1-logloss:0.065876\n",
            "[893]\tvalidation_0-logloss:0.020995\tvalidation_1-logloss:0.065877\n",
            "[894]\tvalidation_0-logloss:0.020994\tvalidation_1-logloss:0.065881\n",
            "[895]\tvalidation_0-logloss:0.020999\tvalidation_1-logloss:0.065902\n",
            "[896]\tvalidation_0-logloss:0.021002\tvalidation_1-logloss:0.065919\n",
            "[897]\tvalidation_0-logloss:0.021004\tvalidation_1-logloss:0.065931\n",
            "[898]\tvalidation_0-logloss:0.021003\tvalidation_1-logloss:0.065935\n",
            "[899]\tvalidation_0-logloss:0.021001\tvalidation_1-logloss:0.065934\n",
            "[900]\tvalidation_0-logloss:0.021003\tvalidation_1-logloss:0.065949\n",
            "[901]\tvalidation_0-logloss:0.021\tvalidation_1-logloss:0.065949\n",
            "[902]\tvalidation_0-logloss:0.021005\tvalidation_1-logloss:0.065973\n",
            "[903]\tvalidation_0-logloss:0.021008\tvalidation_1-logloss:0.065989\n",
            "[904]\tvalidation_0-logloss:0.021003\tvalidation_1-logloss:0.065979\n",
            "[905]\tvalidation_0-logloss:0.021007\tvalidation_1-logloss:0.065997\n",
            "[906]\tvalidation_0-logloss:0.021003\tvalidation_1-logloss:0.065994\n",
            "[907]\tvalidation_0-logloss:0.020999\tvalidation_1-logloss:0.06599\n",
            "[908]\tvalidation_0-logloss:0.021001\tvalidation_1-logloss:0.066\n",
            "[909]\tvalidation_0-logloss:0.021005\tvalidation_1-logloss:0.066017\n",
            "[910]\tvalidation_0-logloss:0.021001\tvalidation_1-logloss:0.066013\n",
            "[911]\tvalidation_0-logloss:0.021008\tvalidation_1-logloss:0.066044\n",
            "[912]\tvalidation_0-logloss:0.021004\tvalidation_1-logloss:0.066039\n",
            "[913]\tvalidation_0-logloss:0.021006\tvalidation_1-logloss:0.066056\n",
            "[914]\tvalidation_0-logloss:0.021007\tvalidation_1-logloss:0.066063\n",
            "[915]\tvalidation_0-logloss:0.021009\tvalidation_1-logloss:0.066081\n",
            "[916]\tvalidation_0-logloss:0.021013\tvalidation_1-logloss:0.066104\n",
            "[917]\tvalidation_0-logloss:0.021018\tvalidation_1-logloss:0.066124\n",
            "[918]\tvalidation_0-logloss:0.021018\tvalidation_1-logloss:0.066134\n",
            "[919]\tvalidation_0-logloss:0.021017\tvalidation_1-logloss:0.066137\n",
            "[920]\tvalidation_0-logloss:0.021014\tvalidation_1-logloss:0.066131\n",
            "[921]\tvalidation_0-logloss:0.021017\tvalidation_1-logloss:0.066146\n",
            "[922]\tvalidation_0-logloss:0.021018\tvalidation_1-logloss:0.066156\n",
            "[923]\tvalidation_0-logloss:0.021025\tvalidation_1-logloss:0.066184\n",
            "[924]\tvalidation_0-logloss:0.021028\tvalidation_1-logloss:0.066201\n",
            "[925]\tvalidation_0-logloss:0.021036\tvalidation_1-logloss:0.066234\n",
            "[926]\tvalidation_0-logloss:0.021037\tvalidation_1-logloss:0.066241\n",
            "[927]\tvalidation_0-logloss:0.021043\tvalidation_1-logloss:0.06626\n",
            "[928]\tvalidation_0-logloss:0.021039\tvalidation_1-logloss:0.066253\n",
            "[929]\tvalidation_0-logloss:0.021042\tvalidation_1-logloss:0.066265\n",
            "[930]\tvalidation_0-logloss:0.021047\tvalidation_1-logloss:0.066288\n",
            "[931]\tvalidation_0-logloss:0.021046\tvalidation_1-logloss:0.066289\n",
            "[932]\tvalidation_0-logloss:0.021046\tvalidation_1-logloss:0.066294\n",
            "[933]\tvalidation_0-logloss:0.02105\tvalidation_1-logloss:0.066313\n",
            "[934]\tvalidation_0-logloss:0.021049\tvalidation_1-logloss:0.066312\n",
            "[935]\tvalidation_0-logloss:0.021055\tvalidation_1-logloss:0.06634\n",
            "[936]\tvalidation_0-logloss:0.021053\tvalidation_1-logloss:0.066338\n",
            "[937]\tvalidation_0-logloss:0.021054\tvalidation_1-logloss:0.066344\n",
            "[938]\tvalidation_0-logloss:0.021058\tvalidation_1-logloss:0.066364\n",
            "[939]\tvalidation_0-logloss:0.021054\tvalidation_1-logloss:0.06636\n",
            "[940]\tvalidation_0-logloss:0.021053\tvalidation_1-logloss:0.066364\n",
            "[941]\tvalidation_0-logloss:0.02106\tvalidation_1-logloss:0.066388\n",
            "[942]\tvalidation_0-logloss:0.021066\tvalidation_1-logloss:0.066416\n",
            "[943]\tvalidation_0-logloss:0.021073\tvalidation_1-logloss:0.066447\n",
            "[944]\tvalidation_0-logloss:0.021077\tvalidation_1-logloss:0.066468\n",
            "[945]\tvalidation_0-logloss:0.021084\tvalidation_1-logloss:0.0665\n",
            "[946]\tvalidation_0-logloss:0.021091\tvalidation_1-logloss:0.066527\n",
            "[947]\tvalidation_0-logloss:0.021103\tvalidation_1-logloss:0.066575\n",
            "[948]\tvalidation_0-logloss:0.021106\tvalidation_1-logloss:0.066589\n",
            "[949]\tvalidation_0-logloss:0.021103\tvalidation_1-logloss:0.066584\n",
            "[950]\tvalidation_0-logloss:0.021108\tvalidation_1-logloss:0.066607\n",
            "[951]\tvalidation_0-logloss:0.02111\tvalidation_1-logloss:0.066618\n",
            "[952]\tvalidation_0-logloss:0.021109\tvalidation_1-logloss:0.066618\n",
            "[953]\tvalidation_0-logloss:0.021114\tvalidation_1-logloss:0.066639\n",
            "[954]\tvalidation_0-logloss:0.021118\tvalidation_1-logloss:0.066658\n",
            "[955]\tvalidation_0-logloss:0.021118\tvalidation_1-logloss:0.066659\n",
            "[956]\tvalidation_0-logloss:0.021116\tvalidation_1-logloss:0.066658\n",
            "[957]\tvalidation_0-logloss:0.021117\tvalidation_1-logloss:0.066667\n",
            "[958]\tvalidation_0-logloss:0.021118\tvalidation_1-logloss:0.066676\n",
            "[959]\tvalidation_0-logloss:0.02112\tvalidation_1-logloss:0.066686\n",
            "[960]\tvalidation_0-logloss:0.021119\tvalidation_1-logloss:0.066688\n",
            "[961]\tvalidation_0-logloss:0.021122\tvalidation_1-logloss:0.066701\n",
            "[962]\tvalidation_0-logloss:0.021125\tvalidation_1-logloss:0.066718\n",
            "[963]\tvalidation_0-logloss:0.02112\tvalidation_1-logloss:0.066704\n",
            "[964]\tvalidation_0-logloss:0.02112\tvalidation_1-logloss:0.066707\n",
            "[965]\tvalidation_0-logloss:0.021119\tvalidation_1-logloss:0.066713\n",
            "[966]\tvalidation_0-logloss:0.021114\tvalidation_1-logloss:0.066701\n",
            "[967]\tvalidation_0-logloss:0.021108\tvalidation_1-logloss:0.066684\n",
            "[968]\tvalidation_0-logloss:0.021111\tvalidation_1-logloss:0.066698\n",
            "[969]\tvalidation_0-logloss:0.021111\tvalidation_1-logloss:0.066702\n",
            "[970]\tvalidation_0-logloss:0.021112\tvalidation_1-logloss:0.066707\n",
            "[971]\tvalidation_0-logloss:0.021116\tvalidation_1-logloss:0.066726\n",
            "[972]\tvalidation_0-logloss:0.021122\tvalidation_1-logloss:0.066747\n",
            "[973]\tvalidation_0-logloss:0.021122\tvalidation_1-logloss:0.066753\n",
            "[974]\tvalidation_0-logloss:0.021128\tvalidation_1-logloss:0.066777\n",
            "[975]\tvalidation_0-logloss:0.021126\tvalidation_1-logloss:0.066775\n",
            "[976]\tvalidation_0-logloss:0.021121\tvalidation_1-logloss:0.066759\n",
            "[977]\tvalidation_0-logloss:0.021126\tvalidation_1-logloss:0.066782\n",
            "[978]\tvalidation_0-logloss:0.021126\tvalidation_1-logloss:0.066787\n",
            "[979]\tvalidation_0-logloss:0.021128\tvalidation_1-logloss:0.066797\n",
            "[980]\tvalidation_0-logloss:0.021126\tvalidation_1-logloss:0.066794\n",
            "[981]\tvalidation_0-logloss:0.021123\tvalidation_1-logloss:0.06679\n",
            "[982]\tvalidation_0-logloss:0.021122\tvalidation_1-logloss:0.066787\n",
            "[983]\tvalidation_0-logloss:0.021124\tvalidation_1-logloss:0.066799\n",
            "[984]\tvalidation_0-logloss:0.021125\tvalidation_1-logloss:0.066806\n",
            "[985]\tvalidation_0-logloss:0.021124\tvalidation_1-logloss:0.066805\n",
            "[986]\tvalidation_0-logloss:0.021125\tvalidation_1-logloss:0.066815\n",
            "[987]\tvalidation_0-logloss:0.021124\tvalidation_1-logloss:0.066811\n",
            "[988]\tvalidation_0-logloss:0.021121\tvalidation_1-logloss:0.066804\n",
            "[989]\tvalidation_0-logloss:0.021125\tvalidation_1-logloss:0.066824\n",
            "[990]\tvalidation_0-logloss:0.021128\tvalidation_1-logloss:0.066837\n",
            "[991]\tvalidation_0-logloss:0.021128\tvalidation_1-logloss:0.066841\n",
            "[992]\tvalidation_0-logloss:0.021138\tvalidation_1-logloss:0.066879\n",
            "[993]\tvalidation_0-logloss:0.021138\tvalidation_1-logloss:0.066887\n",
            "[994]\tvalidation_0-logloss:0.021134\tvalidation_1-logloss:0.066876\n",
            "[995]\tvalidation_0-logloss:0.02114\tvalidation_1-logloss:0.066899\n",
            "[996]\tvalidation_0-logloss:0.021141\tvalidation_1-logloss:0.066904\n",
            "[997]\tvalidation_0-logloss:0.02114\tvalidation_1-logloss:0.066901\n",
            "[998]\tvalidation_0-logloss:0.021144\tvalidation_1-logloss:0.066922\n",
            "[999]\tvalidation_0-logloss:0.021142\tvalidation_1-logloss:0.066919\n"
          ]
        }
      ]
    },
    {
      "cell_type": "code",
      "source": [
        "from sklearn.metrics import confusion_matrix,classification_report\n",
        "import numpy as np\n",
        "from sklearn import metrics\n",
        "\n",
        "print(classification_report(y_test.values.tolist(),xgb_pred))\n",
        "\n",
        "\n",
        "fpr, tpr, thresholds = metrics.roc_curve(y_test.values.tolist(), xgb_pred)\n",
        "print('AUC score',metrics.auc(fpr, tpr))"
      ],
      "metadata": {
        "colab": {
          "base_uri": "https://localhost:8080/"
        },
        "id": "DCZRDJQBnZzP",
        "outputId": "f1954a9e-d56e-466e-cc6c-515faacc36b8"
      },
      "execution_count": null,
      "outputs": [
        {
          "output_type": "stream",
          "name": "stdout",
          "text": [
            "              precision    recall  f1-score   support\n",
            "\n",
            "           0       0.97      0.99      0.98     22642\n",
            "           1       0.98      0.95      0.97     13175\n",
            "\n",
            "    accuracy                           0.98     35817\n",
            "   macro avg       0.98      0.97      0.97     35817\n",
            "weighted avg       0.98      0.98      0.98     35817\n",
            "\n",
            "AUC score 0.9715730887184351\n"
          ]
        }
      ]
    },
    {
      "cell_type": "code",
      "source": [
        "from matplotlib import pyplot\n",
        "results = xgb_model.evals_result()\n",
        "# plot learning curves\n",
        "pyplot.plot(results['validation_0']['logloss'], label='train')\n",
        "pyplot.plot(results['validation_1']['logloss'], label='test')\n",
        "# show the legend\n",
        "pyplot.legend()\n",
        "# show the plot\n",
        "pyplot.show()"
      ],
      "metadata": {
        "colab": {
          "base_uri": "https://localhost:8080/",
          "height": 265
        },
        "id": "Bj3TTy8Pna8W",
        "outputId": "57445731-65a3-40f8-f4e0-ca675d86a262"
      },
      "execution_count": null,
      "outputs": [
        {
          "output_type": "display_data",
          "data": {
            "text/plain": [
              "<Figure size 432x288 with 1 Axes>"
            ],
            "image/png": "[encoded data removed]"
          },
          "metadata": {
            "needs_background": "light"
          }
        }
      ]
    },
    {
      "cell_type": "code",
      "source": [
        "import sklearn.metrics as metrics\n",
        "\n",
        "\n",
        "roc_auc = metrics.auc(fpr, tpr)\n",
        "\n",
        "# method I: plt\n",
        "import matplotlib.pyplot as plt\n",
        "plt.title('Receiver Operating Characteristic')\n",
        "plt.plot(fpr, tpr, 'b', label = 'AUC = %0.2f' % roc_auc)\n",
        "plt.legend(loc = 'lower right')\n",
        "plt.plot([0, 1], [0, 1],'r--')\n",
        "plt.xlim([-0.05, 1])\n",
        "plt.ylim([-0.05, 1])\n",
        "plt.ylabel('True Positive Rate')\n",
        "plt.xlabel('False Positive Rate')\n",
        "plt.show()\n",
        "\n",
        "# # method II: ggplot\n",
        "# from ggplot import *\n",
        "# df = pd.DataFrame(dict(fpr = fpr, tpr = tpr))\n",
        "# ggplot(df, aes(x = 'fpr', y = 'tpr')) + geom_line() + geom_abline(linetype = 'dashed')"
      ],
      "metadata": {
        "colab": {
          "base_uri": "https://localhost:8080/",
          "height": 295
        },
        "id": "PMyHOMfWncM3",
        "outputId": "5e966f14-53d7-4429-be25-16b912ddaf69"
      },
      "execution_count": null,
      "outputs": [
        {
          "output_type": "display_data",
          "data": {
            "text/plain": [
              "<Figure size 432x288 with 1 Axes>"
            ],
            "image/png": "[encoded data removed]"
          },
          "metadata": {
            "needs_background": "light"
          }
        }
      ]
    },
    {
      "cell_type": "markdown",
      "source": [
        "# Change Seed"
      ],
      "metadata": {
        "id": "rttoNrwrnwyg"
      }
    },
    {
      "cell_type": "code",
      "source": [
        "%%time\n",
        "import time\n",
        "import sklearn.metrics as metrics\n",
        "from xgboost import XGBClassifier\n",
        "import matplotlib.pyplot as plt\n",
        "from matplotlib import pyplot\n",
        "import sklearn.metrics as metrics\n",
        "\n",
        "seed_list =[1,39,42,1234,5678]\n",
        "result = pd.DataFrame(columns=['set_seed','train_time','inference_time','auc_score'])\n",
        "for seed in seed_list:\n",
        "  print('random seed at :',seed)\n",
        "\n",
        "  model = XGBClassifier(gamma= 0, learning_rate= 0.25, max_depth= 10,n_estimators= 1000,random_state=seed)\n",
        "  evalset = [(X_res_train, y_res_train), (X_val,y_val)]\n",
        "\n",
        "  train_start_time = time.time()\n",
        "  model.fit(X_res_train, y_res_train,eval_metric='logloss',eval_set=evalset,verbose=0)\n",
        "  train_end_time = time.time()\n",
        "  \n",
        "  inference_start_time = time.time()\n",
        "\n",
        "  y_pred = model.predict( X_res_train )   # reshape x_test[i] from (n_feature,) to (1, n_feature)\n",
        "  inference_end_time = time.time()\n",
        "\n",
        "  fpr, tpr, thresholds = metrics.roc_curve(y_res_train.values.tolist(), y_pred)\n",
        "  print('AUC score (Train)',metrics.auc(fpr, tpr))\n",
        "\n",
        "  value_result = {'data':'train','set_seed':seed,'train_time':train_end_time - train_start_time,'inference_time':inference_end_time-inference_start_time,'auc_score':metrics.auc(fpr, tpr),'f1_class0':metrics.f1_score(y_res_train, y_pred, average=None)[0],'f1_class1':metrics.f1_score(y_res_train, y_pred, average=None)[1]}\n",
        "  result = result.append(value_result,ignore_index=True)\n",
        "\n",
        "#-----------Validation-------------\n",
        "  inference_start_time = time.time()\n",
        "\n",
        "  y_pred = model.predict( X_val )   # reshape x_test[i] from (n_feature,) to (1, n_feature)\n",
        "  inference_end_time = time.time()\n",
        "\n",
        "  fpr, tpr, thresholds = metrics.roc_curve(y_val.values.tolist(), y_pred)\n",
        "  print('AUC score (Validation)',metrics.auc(fpr, tpr))\n",
        "\n",
        "  value_result = {'data':'validation','set_seed':seed,'train_time':train_end_time - train_start_time,'inference_time':inference_end_time-inference_start_time,'auc_score':metrics.auc(fpr, tpr),'f1_class0':metrics.f1_score(y_val, y_pred, average=None)[0],'f1_class1':metrics.f1_score(y_val, y_pred, average=None)[1]}\n",
        "  result = result.append(value_result,ignore_index=True)\n",
        "\n",
        "#-----------Test-------------\n",
        "  inference_start_time = time.time()\n",
        "\n",
        "  y_pred = model.predict( X_test )   # reshape x_test[i] from (n_feature,) to (1, n_feature)\n",
        "  inference_end_time = time.time()\n",
        "\n",
        "  fpr, tpr, thresholds = metrics.roc_curve(y_test.values.tolist(), y_pred)\n",
        "  print('AUC score (Test)',metrics.auc(fpr, tpr))\n",
        "  print(classification_report(y_test.values.tolist(),y_pred))\n",
        "\n",
        "  value_result = {'data':'test','set_seed':seed,'train_time':train_end_time - train_start_time,'inference_time':inference_end_time-inference_start_time,'auc_score':metrics.auc(fpr, tpr),'f1_class0':metrics.f1_score(y_test, y_pred, average=None)[0],'f1_class1':metrics.f1_score(y_test, y_pred, average=None)[1]}\n",
        "  result = result.append(value_result,ignore_index=True)\n",
        "\n",
        "  \n",
        "  results = model.evals_result()\n",
        "  # plot learning curves\n",
        "  pyplot.plot(results['validation_0']['logloss'], label='train')\n",
        "  pyplot.plot(results['validation_1']['logloss'], label='test')\n",
        "  # show the legend\n",
        "  pyplot.legend()\n",
        "  # show the plot\n",
        "  pyplot.show()\n",
        "\n",
        "\n",
        "\n",
        "  \n",
        "\n",
        "\n",
        "  roc_auc = metrics.auc(fpr, tpr)\n",
        "\n",
        "  # method I: plt\n",
        "  \n",
        "  plt.title('Receiver Operating Characteristic')\n",
        "  plt.plot(fpr, tpr, 'b', label = 'AUC = %0.2f' % roc_auc)\n",
        "  plt.legend(loc = 'lower right')\n",
        "  plt.plot([0, 1], [0, 1],'r--')\n",
        "  plt.xlim([-0.05, 1])\n",
        "  plt.ylim([-0.05, 1])\n",
        "  plt.ylabel('True Positive Rate')\n",
        "  plt.xlabel('False Positive Rate')\n",
        "  plt.show()\n",
        "\n",
        "  # # method II: ggplot\n",
        "  # from ggplot import *\n",
        "  # df = pd.DataFrame(dict(fpr = fpr, tpr = tpr))\n",
        "  # ggplot(df, aes(x = 'fpr', y = 'tpr')) + geom_line() + geom_abline(linetype = 'dashed')\n",
        "\n",
        "  value_result = {'set_seed':seed,'train_time':train_end_time - train_start_time,'inference_time':inference_end_time-inference_start_time,'auc_score':metrics.auc(fpr, tpr)}\n",
        "  result = result.append(value_result,ignore_index=True)"
      ],
      "metadata": {
        "colab": {
          "base_uri": "https://localhost:8080/",
          "height": 1000
        },
        "id": "c1ntCF18rGlW",
        "outputId": "d4b024b7-e512-40bc-9416-7f482b887e01"
      },
      "execution_count": null,
      "outputs": [
        {
          "output_type": "stream",
          "name": "stdout",
          "text": [
            "random seed at : 1\n",
            "AUC score (Train) 1.0\n",
            "AUC score (Validation) 0.9809719151146603\n",
            "AUC score (Test) 0.9715730887184351\n",
            "              precision    recall  f1-score   support\n",
            "\n",
            "           0       0.97      0.99      0.98     22642\n",
            "           1       0.98      0.95      0.97     13175\n",
            "\n",
            "    accuracy                           0.98     35817\n",
            "   macro avg       0.98      0.97      0.97     35817\n",
            "weighted avg       0.98      0.98      0.98     35817\n",
            "\n"
          ]
        },
        {
          "output_type": "display_data",
          "data": {
            "text/plain": [
              "<Figure size 432x288 with 1 Axes>"
            ],
            "image/png": "[encoded data removed]"
          },
          "metadata": {
            "needs_background": "light"
          }
        },
        {
          "output_type": "display_data",
          "data": {
            "text/plain": [
              "<Figure size 432x288 with 1 Axes>"
            ],
            "image/png": "[encoded data removed]"
          },
          "metadata": {
            "needs_background": "light"
          }
        },
        {
          "output_type": "stream",
          "name": "stdout",
          "text": [
            "random seed at : 39\n",
            "AUC score (Train) 1.0\n",
            "AUC score (Validation) 0.9809719151146603\n",
            "AUC score (Test) 0.9715730887184351\n",
            "              precision    recall  f1-score   support\n",
            "\n",
            "           0       0.97      0.99      0.98     22642\n",
            "           1       0.98      0.95      0.97     13175\n",
            "\n",
            "    accuracy                           0.98     35817\n",
            "   macro avg       0.98      0.97      0.97     35817\n",
            "weighted avg       0.98      0.98      0.98     35817\n",
            "\n"
          ]
        },
        {
          "output_type": "display_data",
          "data": {
            "text/plain": [
              "<Figure size 432x288 with 1 Axes>"
            ],
            "image/png": "[encoded data removed]"
          },
          "metadata": {
            "needs_background": "light"
          }
        },
        {
          "output_type": "display_data",
          "data": {
            "text/plain": [
              "<Figure size 432x288 with 1 Axes>"
            ],
            "image/png": "[encoded data removed]"
          },
          "metadata": {
            "needs_background": "light"
          }
        },
        {
          "output_type": "stream",
          "name": "stdout",
          "text": [
            "random seed at : 42\n",
            "AUC score (Train) 1.0\n",
            "AUC score (Validation) 0.9809719151146603\n",
            "AUC score (Test) 0.9715730887184351\n",
            "              precision    recall  f1-score   support\n",
            "\n",
            "           0       0.97      0.99      0.98     22642\n",
            "           1       0.98      0.95      0.97     13175\n",
            "\n",
            "    accuracy                           0.98     35817\n",
            "   macro avg       0.98      0.97      0.97     35817\n",
            "weighted avg       0.98      0.98      0.98     35817\n",
            "\n"
          ]
        },
        {
          "output_type": "display_data",
          "data": {
            "text/plain": [
              "<Figure size 432x288 with 1 Axes>"
            ],
            "image/png": "[encoded data removed]"
          },
          "metadata": {
            "needs_background": "light"
          }
        },
        {
          "output_type": "display_data",
          "data": {
            "text/plain": [
              "<Figure size 432x288 with 1 Axes>"
            ],
            "image/png": "[encoded data removed]"
          },
          "metadata": {
            "needs_background": "light"
          }
        },
        {
          "output_type": "stream",
          "name": "stdout",
          "text": [
            "random seed at : 1234\n",
            "AUC score (Train) 1.0\n",
            "AUC score (Validation) 0.9809719151146603\n",
            "AUC score (Test) 0.9715730887184351\n",
            "              precision    recall  f1-score   support\n",
            "\n",
            "           0       0.97      0.99      0.98     22642\n",
            "           1       0.98      0.95      0.97     13175\n",
            "\n",
            "    accuracy                           0.98     35817\n",
            "   macro avg       0.98      0.97      0.97     35817\n",
            "weighted avg       0.98      0.98      0.98     35817\n",
            "\n"
          ]
        },
        {
          "output_type": "display_data",
          "data": {
            "text/plain": [
              "<Figure size 432x288 with 1 Axes>"
            ],
            "image/png": "[encoded data removed]"
          },
          "metadata": {
            "needs_background": "light"
          }
        },
        {
          "output_type": "display_data",
          "data": {
            "text/plain": [
              "<Figure size 432x288 with 1 Axes>"
            ],
            "image/png": "[encoded data removed]"
          },
          "metadata": {
            "needs_background": "light"
          }
        },
        {
          "output_type": "stream",
          "name": "stdout",
          "text": [
            "random seed at : 5678\n",
            "AUC score (Train) 1.0\n",
            "AUC score (Validation) 0.9809719151146603\n",
            "AUC score (Test) 0.9715730887184351\n",
            "              precision    recall  f1-score   support\n",
            "\n",
            "           0       0.97      0.99      0.98     22642\n",
            "           1       0.98      0.95      0.97     13175\n",
            "\n",
            "    accuracy                           0.98     35817\n",
            "   macro avg       0.98      0.97      0.97     35817\n",
            "weighted avg       0.98      0.98      0.98     35817\n",
            "\n"
          ]
        },
        {
          "output_type": "display_data",
          "data": {
            "text/plain": [
              "<Figure size 432x288 with 1 Axes>"
            ],
            "image/png": "[encoded data removed]"
          },
          "metadata": {
            "needs_background": "light"
          }
        },
        {
          "output_type": "display_data",
          "data": {
            "text/plain": [
              "<Figure size 432x288 with 1 Axes>"
            ],
            "image/png": "[encoded data removed]"
          },
          "metadata": {
            "needs_background": "light"
          }
        },
        {
          "output_type": "stream",
          "name": "stdout",
          "text": [
            "CPU times: user 15min 18s, sys: 1.37 s, total: 15min 20s\n",
            "Wall time: 15min 18s\n"
          ]
        }
      ]
    },
    {
      "cell_type": "code",
      "source": [
        "result "
      ],
      "metadata": {
        "id": "8xVKUkyXvl0I",
        "colab": {
          "base_uri": "https://localhost:8080/",
          "height": 520
        },
        "outputId": "302c792a-0fff-4152-f719-995709e0e500"
      },
      "execution_count": null,
      "outputs": [
        {
          "output_type": "execute_result",
          "data": {
            "text/plain": [
              "   set_seed  train_time  inference_time  auc_score        data  f1_class0  \\\n",
              "0         1  166.449483        9.495325   1.000000       train   1.000000   \n",
              "1         1  166.449483        4.065981   0.980972  validation   0.981314   \n",
              "2         1  166.449483        4.622145   0.971573        test   0.981825   \n",
              "4        39  164.914263        9.534301   1.000000       train   1.000000   \n",
              "5        39  164.914263        4.094244   0.980972  validation   0.981314   \n",
              "6        39  164.914263        4.707955   0.971573        test   0.981825   \n",
              "8        42  164.438689       10.089189   1.000000       train   1.000000   \n",
              "9        42  164.438689        4.068240   0.980972  validation   0.981314   \n",
              "10       42  164.438689        4.660918   0.971573        test   0.981825   \n",
              "12     1234  163.484496        9.494719   1.000000       train   1.000000   \n",
              "13     1234  163.484496        4.054318   0.980972  validation   0.981314   \n",
              "14     1234  163.484496        4.680943   0.971573        test   0.981825   \n",
              "16     5678  164.804965        9.491698   1.000000       train   1.000000   \n",
              "17     5678  164.804965        4.040503   0.980972  validation   0.981314   \n",
              "18     5678  164.804965        4.605755   0.971573        test   0.981825   \n",
              "\n",
              "    f1_class1  \n",
              "0    1.000000  \n",
              "1    0.980727  \n",
              "2    0.967929  \n",
              "4    1.000000  \n",
              "5    0.980727  \n",
              "6    0.967929  \n",
              "8    1.000000  \n",
              "9    0.980727  \n",
              "10   0.967929  \n",
              "12   1.000000  \n",
              "13   0.980727  \n",
              "14   0.967929  \n",
              "16   1.000000  \n",
              "17   0.980727  \n",
              "18   0.967929  "
            ],
            "text/html": [
              "\n",
              "  <div id=\"df-669f5433-df4e-4c29-b58d-da0ca9e84f73\">\n",
              "    <div class=\"colab-df-container\">\n",
              "      <div>\n",
              "<style scoped>\n",
              "    .dataframe tbody tr th:only-of-type {\n",
              "        vertical-align: middle;\n",
              "    }\n",
              "\n",
              "    .dataframe tbody tr th {\n",
              "        vertical-align: top;\n",
              "    }\n",
              "\n",
              "    .dataframe thead th {\n",
              "        text-align: right;\n",
              "    }\n",
              "</style>\n",
              "<table border=\"1\" class=\"dataframe\">\n",
              "  <thead>\n",
              "    <tr style=\"text-align: right;\">\n",
              "      <th></th>\n",
              "      <th>set_seed</th>\n",
              "      <th>train_time</th>\n",
              "      <th>inference_time</th>\n",
              "      <th>auc_score</th>\n",
              "      <th>data</th>\n",
              "      <th>f1_class0</th>\n",
              "      <th>f1_class1</th>\n",
              "    </tr>\n",
              "  </thead>\n",
              "  <tbody>\n",
              "    <tr>\n",
              "      <th>0</th>\n",
              "      <td>1</td>\n",
              "      <td>166.449483</td>\n",
              "      <td>9.495325</td>\n",
              "      <td>1.000000</td>\n",
              "      <td>train</td>\n",
              "      <td>1.000000</td>\n",
              "      <td>1.000000</td>\n",
              "    </tr>\n",
              "    <tr>\n",
              "      <th>1</th>\n",
              "      <td>1</td>\n",
              "      <td>166.449483</td>\n",
              "      <td>4.065981</td>\n",
              "      <td>0.980972</td>\n",
              "      <td>validation</td>\n",
              "      <td>0.981314</td>\n",
              "      <td>0.980727</td>\n",
              "    </tr>\n",
              "    <tr>\n",
              "      <th>2</th>\n",
              "      <td>1</td>\n",
              "      <td>166.449483</td>\n",
              "      <td>4.622145</td>\n",
              "      <td>0.971573</td>\n",
              "      <td>test</td>\n",
              "      <td>0.981825</td>\n",
              "      <td>0.967929</td>\n",
              "    </tr>\n",
              "    <tr>\n",
              "      <th>4</th>\n",
              "      <td>39</td>\n",
              "      <td>164.914263</td>\n",
              "      <td>9.534301</td>\n",
              "      <td>1.000000</td>\n",
              "      <td>train</td>\n",
              "      <td>1.000000</td>\n",
              "      <td>1.000000</td>\n",
              "    </tr>\n",
              "    <tr>\n",
              "      <th>5</th>\n",
              "      <td>39</td>\n",
              "      <td>164.914263</td>\n",
              "      <td>4.094244</td>\n",
              "      <td>0.980972</td>\n",
              "      <td>validation</td>\n",
              "      <td>0.981314</td>\n",
              "      <td>0.980727</td>\n",
              "    </tr>\n",
              "    <tr>\n",
              "      <th>6</th>\n",
              "      <td>39</td>\n",
              "      <td>164.914263</td>\n",
              "      <td>4.707955</td>\n",
              "      <td>0.971573</td>\n",
              "      <td>test</td>\n",
              "      <td>0.981825</td>\n",
              "      <td>0.967929</td>\n",
              "    </tr>\n",
              "    <tr>\n",
              "      <th>8</th>\n",
              "      <td>42</td>\n",
              "      <td>164.438689</td>\n",
              "      <td>10.089189</td>\n",
              "      <td>1.000000</td>\n",
              "      <td>train</td>\n",
              "      <td>1.000000</td>\n",
              "      <td>1.000000</td>\n",
              "    </tr>\n",
              "    <tr>\n",
              "      <th>9</th>\n",
              "      <td>42</td>\n",
              "      <td>164.438689</td>\n",
              "      <td>4.068240</td>\n",
              "      <td>0.980972</td>\n",
              "      <td>validation</td>\n",
              "      <td>0.981314</td>\n",
              "      <td>0.980727</td>\n",
              "    </tr>\n",
              "    <tr>\n",
              "      <th>10</th>\n",
              "      <td>42</td>\n",
              "      <td>164.438689</td>\n",
              "      <td>4.660918</td>\n",
              "      <td>0.971573</td>\n",
              "      <td>test</td>\n",
              "      <td>0.981825</td>\n",
              "      <td>0.967929</td>\n",
              "    </tr>\n",
              "    <tr>\n",
              "      <th>12</th>\n",
              "      <td>1234</td>\n",
              "      <td>163.484496</td>\n",
              "      <td>9.494719</td>\n",
              "      <td>1.000000</td>\n",
              "      <td>train</td>\n",
              "      <td>1.000000</td>\n",
              "      <td>1.000000</td>\n",
              "    </tr>\n",
              "    <tr>\n",
              "      <th>13</th>\n",
              "      <td>1234</td>\n",
              "      <td>163.484496</td>\n",
              "      <td>4.054318</td>\n",
              "      <td>0.980972</td>\n",
              "      <td>validation</td>\n",
              "      <td>0.981314</td>\n",
              "      <td>0.980727</td>\n",
              "    </tr>\n",
              "    <tr>\n",
              "      <th>14</th>\n",
              "      <td>1234</td>\n",
              "      <td>163.484496</td>\n",
              "      <td>4.680943</td>\n",
              "      <td>0.971573</td>\n",
              "      <td>test</td>\n",
              "      <td>0.981825</td>\n",
              "      <td>0.967929</td>\n",
              "    </tr>\n",
              "    <tr>\n",
              "      <th>16</th>\n",
              "      <td>5678</td>\n",
              "      <td>164.804965</td>\n",
              "      <td>9.491698</td>\n",
              "      <td>1.000000</td>\n",
              "      <td>train</td>\n",
              "      <td>1.000000</td>\n",
              "      <td>1.000000</td>\n",
              "    </tr>\n",
              "    <tr>\n",
              "      <th>17</th>\n",
              "      <td>5678</td>\n",
              "      <td>164.804965</td>\n",
              "      <td>4.040503</td>\n",
              "      <td>0.980972</td>\n",
              "      <td>validation</td>\n",
              "      <td>0.981314</td>\n",
              "      <td>0.980727</td>\n",
              "    </tr>\n",
              "    <tr>\n",
              "      <th>18</th>\n",
              "      <td>5678</td>\n",
              "      <td>164.804965</td>\n",
              "      <td>4.605755</td>\n",
              "      <td>0.971573</td>\n",
              "      <td>test</td>\n",
              "      <td>0.981825</td>\n",
              "      <td>0.967929</td>\n",
              "    </tr>\n",
              "  </tbody>\n",
              "</table>\n",
              "</div>\n",
              "      <button class=\"colab-df-convert\" onclick=\"convertToInteractive('df-669f5433-df4e-4c29-b58d-da0ca9e84f73')\"\n",
              "              title=\"Convert this dataframe to an interactive table.\"\n",
              "              style=\"display:none;\">\n",
              "        \n",
              "  <svg xmlns=\"http://www.w3.org/2000/svg\" height=\"24px\"viewBox=\"0 0 24 24\"\n",
              "       width=\"24px\">\n",
              "    <path d=\"M0 0h24v24H0V0z\" fill=\"none\"/>\n",
              "    <path d=\"M18.56 5.44l.94 2.06.94-2.06 2.06-.94-2.06-.94-.94-2.06-.94 2.06-2.06.94zm-11 1L8.5 8.5l.94-2.06 2.06-.94-2.06-.94L8.5 2.5l-.94 2.06-2.06.94zm10 10l.94 2.06.94-2.06 2.06-.94-2.06-.94-.94-2.06-.94 2.06-2.06.94z\"/><path d=\"M17.41 7.96l-1.37-1.37c-.4-.4-.92-.59-1.43-.59-.52 0-1.04.2-1.43.59L10.3 9.45l-7.72 7.72c-.78.78-.78 2.05 0 2.83L4 21.41c.39.39.9.59 1.41.59.51 0 1.02-.2 1.41-.59l7.78-7.78 2.81-2.81c.8-.78.8-2.07 0-2.86zM5.41 20L4 18.59l7.72-7.72 1.47 1.35L5.41 20z\"/>\n",
              "  </svg>\n",
              "      </button>\n",
              "      \n",
              "  <style>\n",
              "    .colab-df-container {\n",
              "      display:flex;\n",
              "      flex-wrap:wrap;\n",
              "      gap: 12px;\n",
              "    }\n",
              "\n",
              "    .colab-df-convert {\n",
              "      background-color: #E8F0FE;\n",
              "      border: none;\n",
              "      border-radius: 50%;\n",
              "      cursor: pointer;\n",
              "      display: none;\n",
              "      fill: #1967D2;\n",
              "      height: 32px;\n",
              "      padding: 0 0 0 0;\n",
              "      width: 32px;\n",
              "    }\n",
              "\n",
              "    .colab-df-convert:hover {\n",
              "      background-color: #E2EBFA;\n",
              "      box-shadow: 0px 1px 2px rgba(60, 64, 67, 0.3), 0px 1px 3px 1px rgba(60, 64, 67, 0.15);\n",
              "      fill: #174EA6;\n",
              "    }\n",
              "\n",
              "    [theme=dark] .colab-df-convert {\n",
              "      background-color: #3B4455;\n",
              "      fill: #D2E3FC;\n",
              "    }\n",
              "\n",
              "    [theme=dark] .colab-df-convert:hover {\n",
              "      background-color: #434B5C;\n",
              "      box-shadow: 0px 1px 3px 1px rgba(0, 0, 0, 0.15);\n",
              "      filter: drop-shadow(0px 1px 2px rgba(0, 0, 0, 0.3));\n",
              "      fill: #FFFFFF;\n",
              "    }\n",
              "  </style>\n",
              "\n",
              "      <script>\n",
              "        const buttonEl =\n",
              "          document.querySelector('#df-669f5433-df4e-4c29-b58d-da0ca9e84f73 button.colab-df-convert');\n",
              "        buttonEl.style.display =\n",
              "          google.colab.kernel.accessAllowed ? 'block' : 'none';\n",
              "\n",
              "        async function convertToInteractive(key) {\n",
              "          const element = document.querySelector('#df-669f5433-df4e-4c29-b58d-da0ca9e84f73');\n",
              "          const dataTable =\n",
              "            await google.colab.kernel.invokeFunction('convertToInteractive',\n",
              "                                                     [key], {});\n",
              "          if (!dataTable) return;\n",
              "\n",
              "          const docLinkHtml = 'Like what you see? Visit the ' +\n",
              "            '<a target=\"_blank\" href=https://colab.research.google.com/notebooks/data_table.ipynb>data table notebook</a>'\n",
              "            + ' to learn more about interactive tables.';\n",
              "          element.innerHTML = '';\n",
              "          dataTable['output_type'] = 'display_data';\n",
              "          await google.colab.output.renderOutput(dataTable, element);\n",
              "          const docLink = document.createElement('div');\n",
              "          docLink.innerHTML = docLinkHtml;\n",
              "          element.appendChild(docLink);\n",
              "        }\n",
              "      </script>\n",
              "    </div>\n",
              "  </div>\n",
              "  "
            ]
          },
          "metadata": {},
          "execution_count": 26
        }
      ]
    },
    {
      "cell_type": "code",
      "source": [
        "result[['data','train_time','inference_time','auc_score','f1_class0','f1_class1']].groupby('data').agg(['mean','std']).reset_index()"
      ],
      "metadata": {
        "id": "uNQJTsJfPZu8",
        "colab": {
          "base_uri": "https://localhost:8080/",
          "height": 175
        },
        "outputId": "5ee904ba-ab38-432e-b418-d1101f494e5a"
      },
      "execution_count": null,
      "outputs": [
        {
          "output_type": "execute_result",
          "data": {
            "text/plain": [
              "         data train_time           inference_time           auc_score       \\\n",
              "                    mean       std           mean       std      mean  std   \n",
              "0        test  164.81838  1.071597       4.655543  0.041879  0.971573  0.0   \n",
              "1       train  164.81838  1.071597       9.621046  0.262287  1.000000  0.0   \n",
              "2  validation  164.81838  1.071597       4.064657  0.019877  0.980972  0.0   \n",
              "\n",
              "  f1_class0      f1_class1       \n",
              "       mean  std      mean  std  \n",
              "0  0.981825  0.0  0.967929  0.0  \n",
              "1  1.000000  0.0  1.000000  0.0  \n",
              "2  0.981314  0.0  0.980727  0.0  "
            ],
            "text/html": [
              "\n",
              "  <div id=\"df-9faa2a38-5681-4c69-acc3-3620d513eb0e\">\n",
              "    <div class=\"colab-df-container\">\n",
              "      <div>\n",
              "<style scoped>\n",
              "    .dataframe tbody tr th:only-of-type {\n",
              "        vertical-align: middle;\n",
              "    }\n",
              "\n",
              "    .dataframe tbody tr th {\n",
              "        vertical-align: top;\n",
              "    }\n",
              "\n",
              "    .dataframe thead tr th {\n",
              "        text-align: left;\n",
              "    }\n",
              "</style>\n",
              "<table border=\"1\" class=\"dataframe\">\n",
              "  <thead>\n",
              "    <tr>\n",
              "      <th></th>\n",
              "      <th>data</th>\n",
              "      <th colspan=\"2\" halign=\"left\">train_time</th>\n",
              "      <th colspan=\"2\" halign=\"left\">inference_time</th>\n",
              "      <th colspan=\"2\" halign=\"left\">auc_score</th>\n",
              "      <th colspan=\"2\" halign=\"left\">f1_class0</th>\n",
              "      <th colspan=\"2\" halign=\"left\">f1_class1</th>\n",
              "    </tr>\n",
              "    <tr>\n",
              "      <th></th>\n",
              "      <th></th>\n",
              "      <th>mean</th>\n",
              "      <th>std</th>\n",
              "      <th>mean</th>\n",
              "      <th>std</th>\n",
              "      <th>mean</th>\n",
              "      <th>std</th>\n",
              "      <th>mean</th>\n",
              "      <th>std</th>\n",
              "      <th>mean</th>\n",
              "      <th>std</th>\n",
              "    </tr>\n",
              "  </thead>\n",
              "  <tbody>\n",
              "    <tr>\n",
              "      <th>0</th>\n",
              "      <td>test</td>\n",
              "      <td>164.81838</td>\n",
              "      <td>1.071597</td>\n",
              "      <td>4.655543</td>\n",
              "      <td>0.041879</td>\n",
              "      <td>0.971573</td>\n",
              "      <td>0.0</td>\n",
              "      <td>0.981825</td>\n",
              "      <td>0.0</td>\n",
              "      <td>0.967929</td>\n",
              "      <td>0.0</td>\n",
              "    </tr>\n",
              "    <tr>\n",
              "      <th>1</th>\n",
              "      <td>train</td>\n",
              "      <td>164.81838</td>\n",
              "      <td>1.071597</td>\n",
              "      <td>9.621046</td>\n",
              "      <td>0.262287</td>\n",
              "      <td>1.000000</td>\n",
              "      <td>0.0</td>\n",
              "      <td>1.000000</td>\n",
              "      <td>0.0</td>\n",
              "      <td>1.000000</td>\n",
              "      <td>0.0</td>\n",
              "    </tr>\n",
              "    <tr>\n",
              "      <th>2</th>\n",
              "      <td>validation</td>\n",
              "      <td>164.81838</td>\n",
              "      <td>1.071597</td>\n",
              "      <td>4.064657</td>\n",
              "      <td>0.019877</td>\n",
              "      <td>0.980972</td>\n",
              "      <td>0.0</td>\n",
              "      <td>0.981314</td>\n",
              "      <td>0.0</td>\n",
              "      <td>0.980727</td>\n",
              "      <td>0.0</td>\n",
              "    </tr>\n",
              "  </tbody>\n",
              "</table>\n",
              "</div>\n",
              "      <button class=\"colab-df-convert\" onclick=\"convertToInteractive('df-9faa2a38-5681-4c69-acc3-3620d513eb0e')\"\n",
              "              title=\"Convert this dataframe to an interactive table.\"\n",
              "              style=\"display:none;\">\n",
              "        \n",
              "  <svg xmlns=\"http://www.w3.org/2000/svg\" height=\"24px\"viewBox=\"0 0 24 24\"\n",
              "       width=\"24px\">\n",
              "    <path d=\"M0 0h24v24H0V0z\" fill=\"none\"/>\n",
              "    <path d=\"M18.56 5.44l.94 2.06.94-2.06 2.06-.94-2.06-.94-.94-2.06-.94 2.06-2.06.94zm-11 1L8.5 8.5l.94-2.06 2.06-.94-2.06-.94L8.5 2.5l-.94 2.06-2.06.94zm10 10l.94 2.06.94-2.06 2.06-.94-2.06-.94-.94-2.06-.94 2.06-2.06.94z\"/><path d=\"M17.41 7.96l-1.37-1.37c-.4-.4-.92-.59-1.43-.59-.52 0-1.04.2-1.43.59L10.3 9.45l-7.72 7.72c-.78.78-.78 2.05 0 2.83L4 21.41c.39.39.9.59 1.41.59.51 0 1.02-.2 1.41-.59l7.78-7.78 2.81-2.81c.8-.78.8-2.07 0-2.86zM5.41 20L4 18.59l7.72-7.72 1.47 1.35L5.41 20z\"/>\n",
              "  </svg>\n",
              "      </button>\n",
              "      \n",
              "  <style>\n",
              "    .colab-df-container {\n",
              "      display:flex;\n",
              "      flex-wrap:wrap;\n",
              "      gap: 12px;\n",
              "    }\n",
              "\n",
              "    .colab-df-convert {\n",
              "      background-color: #E8F0FE;\n",
              "      border: none;\n",
              "      border-radius: 50%;\n",
              "      cursor: pointer;\n",
              "      display: none;\n",
              "      fill: #1967D2;\n",
              "      height: 32px;\n",
              "      padding: 0 0 0 0;\n",
              "      width: 32px;\n",
              "    }\n",
              "\n",
              "    .colab-df-convert:hover {\n",
              "      background-color: #E2EBFA;\n",
              "      box-shadow: 0px 1px 2px rgba(60, 64, 67, 0.3), 0px 1px 3px 1px rgba(60, 64, 67, 0.15);\n",
              "      fill: #174EA6;\n",
              "    }\n",
              "\n",
              "    [theme=dark] .colab-df-convert {\n",
              "      background-color: #3B4455;\n",
              "      fill: #D2E3FC;\n",
              "    }\n",
              "\n",
              "    [theme=dark] .colab-df-convert:hover {\n",
              "      background-color: #434B5C;\n",
              "      box-shadow: 0px 1px 3px 1px rgba(0, 0, 0, 0.15);\n",
              "      filter: drop-shadow(0px 1px 2px rgba(0, 0, 0, 0.3));\n",
              "      fill: #FFFFFF;\n",
              "    }\n",
              "  </style>\n",
              "\n",
              "      <script>\n",
              "        const buttonEl =\n",
              "          document.querySelector('#df-9faa2a38-5681-4c69-acc3-3620d513eb0e button.colab-df-convert');\n",
              "        buttonEl.style.display =\n",
              "          google.colab.kernel.accessAllowed ? 'block' : 'none';\n",
              "\n",
              "        async function convertToInteractive(key) {\n",
              "          const element = document.querySelector('#df-9faa2a38-5681-4c69-acc3-3620d513eb0e');\n",
              "          const dataTable =\n",
              "            await google.colab.kernel.invokeFunction('convertToInteractive',\n",
              "                                                     [key], {});\n",
              "          if (!dataTable) return;\n",
              "\n",
              "          const docLinkHtml = 'Like what you see? Visit the ' +\n",
              "            '<a target=\"_blank\" href=https://colab.research.google.com/notebooks/data_table.ipynb>data table notebook</a>'\n",
              "            + ' to learn more about interactive tables.';\n",
              "          element.innerHTML = '';\n",
              "          dataTable['output_type'] = 'display_data';\n",
              "          await google.colab.output.renderOutput(dataTable, element);\n",
              "          const docLink = document.createElement('div');\n",
              "          docLink.innerHTML = docLinkHtml;\n",
              "          element.appendChild(docLink);\n",
              "        }\n",
              "      </script>\n",
              "    </div>\n",
              "  </div>\n",
              "  "
            ]
          },
          "metadata": {},
          "execution_count": 28
        }
      ]
    },
    {
      "cell_type": "code",
      "source": [],
      "metadata": {
        "id": "qX3KrS_bUZCx"
      },
      "execution_count": null,
      "outputs": []
    }
  ]
}